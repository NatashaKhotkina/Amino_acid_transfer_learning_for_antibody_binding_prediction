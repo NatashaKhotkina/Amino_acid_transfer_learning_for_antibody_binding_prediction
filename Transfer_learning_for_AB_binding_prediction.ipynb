{
  "nbformat": 4,
  "nbformat_minor": 0,
  "metadata": {
    "colab": {
      "provenance": [],
      "machine_shape": "hm",
      "gpuType": "T4",
      "authorship_tag": "ABX9TyN+h8wp1RElyXq16+/rKmIV",
      "include_colab_link": true
    },
    "kernelspec": {
      "name": "python3",
      "display_name": "Python 3"
    },
    "language_info": {
      "name": "python"
    },
    "accelerator": "GPU",
    "gpuClass": "standard"
  },
  "cells": [
    {
      "cell_type": "markdown",
      "metadata": {
        "id": "view-in-github",
        "colab_type": "text"
      },
      "source": [
        "<a href=\"https://colab.research.google.com/github/NatashaKhotkina/Amino_acid_transfer_learning_for_antibody_binding_prediction/blob/main/Transfer_learning_for_AB_binding_prediction.ipynb\" target=\"_parent\"><img src=\"https://colab.research.google.com/assets/colab-badge.svg\" alt=\"Open In Colab\"/></a>"
      ]
    },
    {
      "cell_type": "markdown",
      "metadata": {
        "id": "l0Z1Aj9LBGJ5"
      },
      "source": [
        "# Imports and settings"
      ]
    },
    {
      "cell_type": "code",
      "execution_count": 1,
      "metadata": {
        "colab": {
          "base_uri": "https://localhost:8080/"
        },
        "id": "mDgx5ometbN5",
        "outputId": "daa2ee3d-a5ee-47dc-8580-69d2901fd312"
      },
      "outputs": [
        {
          "output_type": "stream",
          "name": "stdout",
          "text": [
            "Cloning into 'Amino_acid_transfer_learning_for_antibody_binding_prediction'...\n",
            "remote: Enumerating objects: 145, done.\u001b[K\n",
            "remote: Counting objects: 100% (145/145), done.\u001b[K\n",
            "remote: Compressing objects: 100% (112/112), done.\u001b[K\n",
            "remote: Total 145 (delta 69), reused 95 (delta 29), pack-reused 0\u001b[K\n",
            "Receiving objects: 100% (145/145), 9.54 MiB | 14.67 MiB/s, done.\n",
            "Resolving deltas: 100% (69/69), done.\n"
          ]
        }
      ],
      "source": [
        "!git clone https://github.com/NatashaKhotkina/Amino_acid_transfer_learning_for_antibody_binding_prediction.git\n",
        "!mv Amino_acid_transfer_learning_for_antibody_binding_prediction/* .\n",
        "!rm -rf Amino_acid_transfer_learning_for_antibody_binding_prediction"
      ]
    },
    {
      "cell_type": "code",
      "source": [
        "!pip install optuna"
      ],
      "metadata": {
        "colab": {
          "base_uri": "https://localhost:8080/"
        },
        "id": "d7XvBixLMTa7",
        "outputId": "51467650-c216-45e4-be7b-94a4643ea7a9"
      },
      "execution_count": 2,
      "outputs": [
        {
          "output_type": "stream",
          "name": "stdout",
          "text": [
            "Looking in indexes: https://pypi.org/simple, https://us-python.pkg.dev/colab-wheels/public/simple/\n",
            "Collecting optuna\n",
            "  Downloading optuna-3.1.1-py3-none-any.whl (365 kB)\n",
            "\u001b[2K     \u001b[90m━━━━━━━━━━━━━━━━━━━━━━━━━━━━━━━━━━━━━━━\u001b[0m \u001b[32m365.7/365.7 kB\u001b[0m \u001b[31m3.9 MB/s\u001b[0m eta \u001b[36m0:00:00\u001b[0m\n",
            "\u001b[?25hCollecting alembic>=1.5.0 (from optuna)\n",
            "  Downloading alembic-1.11.1-py3-none-any.whl (224 kB)\n",
            "\u001b[2K     \u001b[90m━━━━━━━━━━━━━━━━━━━━━━━━━━━━━━━━━━━━━━━\u001b[0m \u001b[32m224.5/224.5 kB\u001b[0m \u001b[31m2.0 MB/s\u001b[0m eta \u001b[36m0:00:00\u001b[0m\n",
            "\u001b[?25hCollecting cmaes>=0.9.1 (from optuna)\n",
            "  Downloading cmaes-0.9.1-py3-none-any.whl (21 kB)\n",
            "Collecting colorlog (from optuna)\n",
            "  Downloading colorlog-6.7.0-py2.py3-none-any.whl (11 kB)\n",
            "Requirement already satisfied: numpy in /usr/local/lib/python3.10/dist-packages (from optuna) (1.22.4)\n",
            "Requirement already satisfied: packaging>=20.0 in /usr/local/lib/python3.10/dist-packages (from optuna) (23.1)\n",
            "Requirement already satisfied: sqlalchemy>=1.3.0 in /usr/local/lib/python3.10/dist-packages (from optuna) (2.0.10)\n",
            "Requirement already satisfied: tqdm in /usr/local/lib/python3.10/dist-packages (from optuna) (4.65.0)\n",
            "Requirement already satisfied: PyYAML in /usr/local/lib/python3.10/dist-packages (from optuna) (6.0)\n",
            "Collecting Mako (from alembic>=1.5.0->optuna)\n",
            "  Downloading Mako-1.2.4-py3-none-any.whl (78 kB)\n",
            "\u001b[2K     \u001b[90m━━━━━━━━━━━━━━━━━━━━━━━━━━━━━━━━━━━━━━━━\u001b[0m \u001b[32m78.7/78.7 kB\u001b[0m \u001b[31m10.0 MB/s\u001b[0m eta \u001b[36m0:00:00\u001b[0m\n",
            "\u001b[?25hRequirement already satisfied: typing-extensions>=4 in /usr/local/lib/python3.10/dist-packages (from alembic>=1.5.0->optuna) (4.5.0)\n",
            "Requirement already satisfied: greenlet!=0.4.17 in /usr/local/lib/python3.10/dist-packages (from sqlalchemy>=1.3.0->optuna) (2.0.2)\n",
            "Requirement already satisfied: MarkupSafe>=0.9.2 in /usr/local/lib/python3.10/dist-packages (from Mako->alembic>=1.5.0->optuna) (2.1.2)\n",
            "Installing collected packages: Mako, colorlog, cmaes, alembic, optuna\n",
            "Successfully installed Mako-1.2.4 alembic-1.11.1 cmaes-0.9.1 colorlog-6.7.0 optuna-3.1.1\n"
          ]
        }
      ]
    },
    {
      "cell_type": "code",
      "execution_count": 3,
      "metadata": {
        "id": "zFdom98mE92X"
      },
      "outputs": [],
      "source": [
        "from collections import defaultdict\n",
        "\n",
        "import matplotlib.pyplot as plt\n",
        "import numpy as np\n",
        "import optuna\n",
        "import pandas as pd\n",
        "import random\n",
        "import seaborn as sns\n",
        "import torch\n",
        "import torch.nn as nn\n",
        "import torch.optim as optim\n",
        "from sklearn.model_selection import train_test_split, KFold\n",
        "\n",
        "from src.dataset import make_dataloader\n",
        "from src.models import LSTMModel, LSTMMultiModel\n",
        "from src.train import train_model, train_multi_model\n",
        "from src.validate import eval_model"
      ]
    },
    {
      "cell_type": "code",
      "source": [
        "plt.rcParams[\"figure.figsize\"] = 12, 9\n",
        "plt.rcParams[\"font.size\"] = 20\n",
        "sns.set_style(\"whitegrid\")\n",
        "\n",
        "SEED = 111\n",
        "random.seed(SEED)\n",
        "np.random.seed(SEED)\n",
        "torch.manual_seed(SEED)\n",
        "torch.cuda.manual_seed(SEED)\n",
        "torch.backends.cudnn.deterministic = True\n",
        "torch.backends.cudnn.benchmark = False\n",
        "\n",
        "device = torch.device('cuda:0' if torch.cuda.is_available() else 'cpu')\n",
        "print(\"Using device: {}\".format(device))"
      ],
      "metadata": {
        "colab": {
          "base_uri": "https://localhost:8080/"
        },
        "id": "z4VylzKUFcH3",
        "outputId": "38aba25c-01d7-405f-a4c5-0f97aa561be1"
      },
      "execution_count": 4,
      "outputs": [
        {
          "output_type": "stream",
          "name": "stdout",
          "text": [
            "Using device: cuda:0\n"
          ]
        }
      ]
    },
    {
      "cell_type": "markdown",
      "source": [
        "# Code for model pretraining - skip it"
      ],
      "metadata": {
        "id": "xt3s8QNLIA5F"
      }
    },
    {
      "cell_type": "code",
      "execution_count": null,
      "metadata": {
        "colab": {
          "base_uri": "https://localhost:8080/"
        },
        "id": "BWokQV4vjfIU",
        "outputId": "6dd97d8a-1c9a-4d05-caa9-735a70e9d898"
      },
      "outputs": [
        {
          "output_type": "stream",
          "name": "stdout",
          "text": [
            "Mounted at /content/gdrive\n"
          ]
        }
      ],
      "source": [
        "from google.colab import drive\n",
        "drive.mount('/content/gdrive')"
      ]
    },
    {
      "cell_type": "code",
      "source": [
        "batch_size=256"
      ],
      "metadata": {
        "id": "BJ0oJLVAKCrI"
      },
      "execution_count": null,
      "outputs": []
    },
    {
      "cell_type": "code",
      "execution_count": null,
      "metadata": {
        "id": "t2XcMK1kjmcx"
      },
      "outputs": [],
      "source": [
        "train_ace2 = pd.read_csv(\"/content/gdrive/MyDrive/BI_project/ACE2_train_data.csv\")\n",
        "test_ace2 = pd.read_csv(\"/content/gdrive/MyDrive/BI_project/ACE2_test_data.csv\")"
      ]
    },
    {
      "cell_type": "code",
      "execution_count": null,
      "metadata": {
        "colab": {
          "base_uri": "https://localhost:8080/"
        },
        "id": "wGyavqg8kLlc",
        "outputId": "f0621790-0708-469a-b7e5-521023470f6f"
      },
      "outputs": [
        {
          "output_type": "execute_result",
          "data": {
            "text/plain": [
              "(406886, 5)"
            ]
          },
          "metadata": {},
          "execution_count": 11
        }
      ],
      "source": [
        "train_ace2.shape"
      ]
    },
    {
      "cell_type": "code",
      "execution_count": null,
      "metadata": {
        "id": "wRp86NIOQFia"
      },
      "outputs": [],
      "source": [
        "trainloader_ace2 = make_dataloader(train_ace2, batch_size=batch_size, shuffle=True)\n",
        "testloader_ace2 = make_dataloader(test_ace2, batch_size=batch_size, shuffle=False)"
      ]
    },
    {
      "cell_type": "code",
      "execution_count": null,
      "metadata": {
        "id": "YDgPV9pSw-hZ"
      },
      "outputs": [],
      "source": [
        "lstm_pretrained_ace2 =  LSTMModel(input_size=20, hidden_size=80, num_layers=3, dropout=0.2).to(device)\n",
        "\n",
        "train_model(model=lstm_pretrained_ace2, trainload=trainloader_ace2, num_epochs=10, \n",
        "            learning_rate=0.001, criterion=nn.BCEWithLogitsLoss, optim=torch.optim.Adam, print_epoch=True)"
      ]
    },
    {
      "cell_type": "code",
      "source": [
        "torch.save(lstm_pretrained_ace2.state_dict(), \"lstm_pretrained_ace2.pt\")"
      ],
      "metadata": {
        "id": "ivH6kj_MGT7F"
      },
      "execution_count": null,
      "outputs": []
    },
    {
      "cell_type": "markdown",
      "source": [
        "# Reading data"
      ],
      "metadata": {
        "id": "Ad8pfz0AP3bp"
      }
    },
    {
      "cell_type": "code",
      "source": [
        "batch_size=256"
      ],
      "metadata": {
        "id": "nyf3Xw--FpFj"
      },
      "execution_count": 5,
      "outputs": []
    },
    {
      "cell_type": "code",
      "execution_count": 6,
      "metadata": {
        "id": "xHUJpNIsjBwO"
      },
      "outputs": [],
      "source": [
        "train_ly16 = pd.read_csv(\"data/LY16_train_data.csv\")\n",
        "test_ly16 = pd.read_csv(\"data/LY16_test_data.csv\")"
      ]
    },
    {
      "cell_type": "code",
      "source": [
        "trainloader_ly16 = make_dataloader(train_ly16, batch_size=batch_size, shuffle=True)\n",
        "testloader_ly16 = make_dataloader(test_ly16, batch_size=batch_size, shuffle=False)"
      ],
      "metadata": {
        "id": "fGOpQUukFPAi"
      },
      "execution_count": 7,
      "outputs": []
    },
    {
      "cell_type": "markdown",
      "source": [
        "# HP optimization with Optuna"
      ],
      "metadata": {
        "id": "artYerSEGiPy"
      }
    },
    {
      "cell_type": "markdown",
      "metadata": {
        "id": "lVJY4f4sY80Y"
      },
      "source": [
        "Here we search for best training hyperparametrs - learning rate and number of epochs."
      ]
    },
    {
      "cell_type": "code",
      "source": [
        "pretrained_path = \"models/lstm_pretrained_ace2.pt\""
      ],
      "metadata": {
        "id": "qclQDvsVHTLc"
      },
      "execution_count": 8,
      "outputs": []
    },
    {
      "cell_type": "code",
      "source": [
        "whole_dataset_len = len(train_ly16)\n",
        "train_ly16_small, _ = train_test_split(train_ly16, train_size=1000 / whole_dataset_len, \n",
        "                                       random_state=SEED, stratify=train_ly16['Label'])"
      ],
      "metadata": {
        "id": "ixsNWexiGokK"
      },
      "execution_count": 9,
      "outputs": []
    },
    {
      "cell_type": "code",
      "execution_count": 10,
      "metadata": {
        "id": "ehShOeWt-zlp"
      },
      "outputs": [],
      "source": [
        "batch_size = 256\n",
        "def objective(trial, train_loader, valid_loader):\n",
        "    param = {\n",
        "        \"num_epochs\": trial.suggest_int(\"num_epochs\", 20, 1000),\n",
        "        \"learning_rate\": trial.suggest_float(\"learning_rate\", 0.0005, 0.01),\n",
        "    }\n",
        "    lstm =  LSTMModel(input_size = 20, hidden_size = 80, num_layers=3, dropout=0.2)\n",
        "    lstm = lstm.to(device)\n",
        "\n",
        "    lstm.load_state_dict(torch.load(pretrained_path))\n",
        "\n",
        "    train_model(model=lstm, trainload=train_loader, num_epochs=param[\"num_epochs\"], \n",
        "                learning_rate=param[\"learning_rate\"], criterion=nn.BCEWithLogitsLoss, \n",
        "                optim=torch.optim.Adam, print_epoch=False, device=device)\n",
        "    \n",
        "    *_, mean_roc_auc = eval_model(model=lstm, testload=valid_loader, device=device)\n",
        "\n",
        "    return mean_roc_auc\n",
        "\n",
        "\n",
        "def objective_cv(trial):\n",
        "\n",
        "    fold = KFold(n_splits=5, shuffle=True, random_state=SEED)\n",
        "    scores = []\n",
        "    for cv_number, (train_idx, valid_idx) in enumerate(fold.split(range(len(train_ly16_small)))):\n",
        "        train_data = train_ly16_small.iloc[train_idx, :]\n",
        "        valid_data = train_ly16_small.iloc[valid_idx, :]\n",
        "\n",
        "        train_loader = make_dataloader(train_data, batch_size=batch_size, shuffle=True)\n",
        "\n",
        "        valid_loader = make_dataloader(valid_data, batch_size=batch_size, shuffle=True)\n",
        "\n",
        "        roc_auc = objective(trial, train_loader, valid_loader)\n",
        "        scores.append(roc_auc)\n",
        "\n",
        "        trial.report(roc_auc, cv_number)\n",
        "\n",
        "        if trial.should_prune():  # Stop trial if the metric for this epoch is bad.\n",
        "            raise optuna.TrialPruned()\n",
        "\n",
        "    return np.mean(scores)"
      ]
    },
    {
      "cell_type": "code",
      "execution_count": 11,
      "metadata": {
        "id": "8Yf2IXG79UHw",
        "colab": {
          "base_uri": "https://localhost:8080/"
        },
        "outputId": "f0cdac9f-42a6-4324-beb7-5353aeb5e7eb"
      },
      "outputs": [
        {
          "output_type": "stream",
          "name": "stderr",
          "text": [
            "\u001b[32m[I 2023-05-21 18:47:24,184]\u001b[0m A new study created in memory with name: no-name-f3c94fe7-ea4c-4070-a83e-101a2e363403\u001b[0m\n",
            "\u001b[32m[I 2023-05-21 18:48:27,470]\u001b[0m Trial 0 finished with value: 0.8504471288558001 and parameters: {'num_epochs': 542, 'learning_rate': 0.0071044075037783455}. Best is trial 0 with value: 0.8504471288558001.\u001b[0m\n",
            "\u001b[32m[I 2023-05-21 18:48:44,870]\u001b[0m Trial 1 finished with value: 0.8362722974425102 and parameters: {'num_epochs': 180, 'learning_rate': 0.006509102446234377}. Best is trial 0 with value: 0.8504471288558001.\u001b[0m\n",
            "\u001b[32m[I 2023-05-21 18:49:24,616]\u001b[0m Trial 2 finished with value: 0.8478394949089451 and parameters: {'num_epochs': 416, 'learning_rate': 0.0052762856073056575}. Best is trial 0 with value: 0.8504471288558001.\u001b[0m\n",
            "\u001b[32m[I 2023-05-21 18:50:52,564]\u001b[0m Trial 3 finished with value: 0.8473223280577757 and parameters: {'num_epochs': 906, 'learning_rate': 0.0028869537134031857}. Best is trial 0 with value: 0.8504471288558001.\u001b[0m\n",
            "\u001b[32m[I 2023-05-21 18:51:27,359]\u001b[0m Trial 4 finished with value: 0.8532875280302017 and parameters: {'num_epochs': 352, 'learning_rate': 0.00411194910740002}. Best is trial 4 with value: 0.8532875280302017.\u001b[0m\n",
            "\u001b[32m[I 2023-05-21 18:52:25,900]\u001b[0m Trial 5 finished with value: 0.862956124877843 and parameters: {'num_epochs': 601, 'learning_rate': 0.004535134566831266}. Best is trial 5 with value: 0.862956124877843.\u001b[0m\n",
            "\u001b[32m[I 2023-05-21 18:52:51,024]\u001b[0m Trial 6 finished with value: 0.8279053157021844 and parameters: {'num_epochs': 259, 'learning_rate': 0.008706514265679083}. Best is trial 5 with value: 0.862956124877843.\u001b[0m\n",
            "\u001b[32m[I 2023-05-21 18:52:54,839]\u001b[0m Trial 7 pruned. \u001b[0m\n",
            "\u001b[32m[I 2023-05-21 18:53:16,169]\u001b[0m Trial 8 finished with value: 0.8551450798632653 and parameters: {'num_epochs': 221, 'learning_rate': 0.0031842040731288506}. Best is trial 5 with value: 0.862956124877843.\u001b[0m\n",
            "\u001b[32m[I 2023-05-21 18:53:30,740]\u001b[0m Trial 9 pruned. \u001b[0m\n",
            "\u001b[32m[I 2023-05-21 18:53:42,804]\u001b[0m Trial 10 pruned. \u001b[0m\n",
            "\u001b[32m[I 2023-05-21 18:53:43,935]\u001b[0m Trial 11 pruned. \u001b[0m\n",
            "\u001b[32m[I 2023-05-21 18:53:57,648]\u001b[0m Trial 12 pruned. \u001b[0m\n",
            "\u001b[32m[I 2023-05-21 18:54:05,943]\u001b[0m Trial 13 pruned. \u001b[0m\n",
            "\u001b[32m[I 2023-05-21 18:54:09,199]\u001b[0m Trial 14 finished with value: 0.8756120985041097 and parameters: {'num_epochs': 31, 'learning_rate': 0.0016461485106881476}. Best is trial 14 with value: 0.8756120985041097.\u001b[0m\n",
            "\u001b[32m[I 2023-05-21 18:54:27,970]\u001b[0m Trial 15 pruned. \u001b[0m\n",
            "\u001b[32m[I 2023-05-21 18:54:49,836]\u001b[0m Trial 16 pruned. \u001b[0m\n",
            "\u001b[32m[I 2023-05-21 18:55:04,772]\u001b[0m Trial 17 pruned. \u001b[0m\n",
            "\u001b[32m[I 2023-05-21 18:55:06,375]\u001b[0m Trial 18 pruned. \u001b[0m\n",
            "\u001b[32m[I 2023-05-21 18:55:13,170]\u001b[0m Trial 19 pruned. \u001b[0m\n",
            "\u001b[32m[I 2023-05-21 18:55:25,317]\u001b[0m Trial 20 pruned. \u001b[0m\n",
            "\u001b[32m[I 2023-05-21 18:55:27,559]\u001b[0m Trial 21 finished with value: 0.8658733785060562 and parameters: {'num_epochs': 22, 'learning_rate': 0.0032591427947480374}. Best is trial 14 with value: 0.8756120985041097.\u001b[0m\n",
            "\u001b[32m[I 2023-05-21 18:55:29,855]\u001b[0m Trial 22 pruned. \u001b[0m\n",
            "\u001b[32m[I 2023-05-21 18:55:30,789]\u001b[0m Trial 23 pruned. \u001b[0m\n",
            "\u001b[32m[I 2023-05-21 18:55:43,068]\u001b[0m Trial 24 pruned. \u001b[0m\n",
            "\u001b[32m[I 2023-05-21 18:55:51,731]\u001b[0m Trial 25 pruned. \u001b[0m\n",
            "\u001b[32m[I 2023-05-21 18:55:54,500]\u001b[0m Trial 26 pruned. \u001b[0m\n",
            "\u001b[32m[I 2023-05-21 18:55:56,680]\u001b[0m Trial 27 finished with value: 0.8772549501437498 and parameters: {'num_epochs': 20, 'learning_rate': 0.004764686203797987}. Best is trial 27 with value: 0.8772549501437498.\u001b[0m\n",
            "\u001b[32m[I 2023-05-21 18:56:00,236]\u001b[0m Trial 28 finished with value: 0.8680071773536246 and parameters: {'num_epochs': 36, 'learning_rate': 0.0037711746792203973}. Best is trial 27 with value: 0.8772549501437498.\u001b[0m\n",
            "\u001b[32m[I 2023-05-21 18:56:10,385]\u001b[0m Trial 29 pruned. \u001b[0m\n",
            "\u001b[32m[I 2023-05-21 18:56:14,811]\u001b[0m Trial 30 pruned. \u001b[0m\n",
            "\u001b[32m[I 2023-05-21 18:56:17,324]\u001b[0m Trial 31 finished with value: 0.8732559882242741 and parameters: {'num_epochs': 23, 'learning_rate': 0.003908342943652051}. Best is trial 27 with value: 0.8772549501437498.\u001b[0m\n",
            "\u001b[32m[I 2023-05-21 18:56:19,954]\u001b[0m Trial 32 finished with value: 0.8734214971878561 and parameters: {'num_epochs': 26, 'learning_rate': 0.003887034566024997}. Best is trial 27 with value: 0.8772549501437498.\u001b[0m\n",
            "\u001b[32m[I 2023-05-21 18:56:22,381]\u001b[0m Trial 33 pruned. \u001b[0m\n",
            "\u001b[32m[I 2023-05-21 18:56:26,204]\u001b[0m Trial 34 pruned. \u001b[0m\n",
            "\u001b[32m[I 2023-05-21 18:56:29,513]\u001b[0m Trial 35 pruned. \u001b[0m\n",
            "\u001b[32m[I 2023-05-21 18:56:56,289]\u001b[0m Trial 36 finished with value: 0.8630683673345256 and parameters: {'num_epochs': 278, 'learning_rate': 0.006775560627751904}. Best is trial 27 with value: 0.8772549501437498.\u001b[0m\n",
            "\u001b[32m[I 2023-05-21 18:56:59,468]\u001b[0m Trial 37 pruned. \u001b[0m\n",
            "\u001b[32m[I 2023-05-21 18:57:02,574]\u001b[0m Trial 38 pruned. \u001b[0m\n",
            "\u001b[32m[I 2023-05-21 18:57:03,015]\u001b[0m Trial 39 pruned. \u001b[0m\n",
            "\u001b[32m[I 2023-05-21 18:57:07,287]\u001b[0m Trial 40 pruned. \u001b[0m\n",
            "\u001b[32m[I 2023-05-21 18:57:08,918]\u001b[0m Trial 41 pruned. \u001b[0m\n",
            "\u001b[32m[I 2023-05-21 18:57:11,257]\u001b[0m Trial 42 finished with value: 0.8756835638601999 and parameters: {'num_epochs': 23, 'learning_rate': 0.004327767217754651}. Best is trial 27 with value: 0.8772549501437498.\u001b[0m\n",
            "\u001b[32m[I 2023-05-21 18:57:12,976]\u001b[0m Trial 43 pruned. \u001b[0m\n",
            "\u001b[32m[I 2023-05-21 18:57:15,441]\u001b[0m Trial 44 finished with value: 0.8780662344034484 and parameters: {'num_epochs': 24, 'learning_rate': 0.004406654140924682}. Best is trial 44 with value: 0.8780662344034484.\u001b[0m\n",
            "\u001b[32m[I 2023-05-21 18:57:18,873]\u001b[0m Trial 45 pruned. \u001b[0m\n",
            "\u001b[32m[I 2023-05-21 18:57:23,883]\u001b[0m Trial 46 pruned. \u001b[0m\n",
            "\u001b[32m[I 2023-05-21 18:57:25,181]\u001b[0m Trial 47 pruned. \u001b[0m\n",
            "\u001b[32m[I 2023-05-21 18:57:29,555]\u001b[0m Trial 48 pruned. \u001b[0m\n",
            "\u001b[32m[I 2023-05-21 18:57:31,344]\u001b[0m Trial 49 pruned. \u001b[0m\n",
            "\u001b[32m[I 2023-05-21 18:57:32,475]\u001b[0m Trial 50 pruned. \u001b[0m\n",
            "\u001b[32m[I 2023-05-21 18:57:33,407]\u001b[0m Trial 51 pruned. \u001b[0m\n",
            "\u001b[32m[I 2023-05-21 18:57:34,312]\u001b[0m Trial 52 pruned. \u001b[0m\n",
            "\u001b[32m[I 2023-05-21 18:57:37,668]\u001b[0m Trial 53 pruned. \u001b[0m\n",
            "\u001b[32m[I 2023-05-21 18:57:54,153]\u001b[0m Trial 54 pruned. \u001b[0m\n",
            "\u001b[32m[I 2023-05-21 18:57:56,532]\u001b[0m Trial 55 pruned. \u001b[0m\n",
            "\u001b[32m[I 2023-05-21 18:57:57,820]\u001b[0m Trial 56 pruned. \u001b[0m\n",
            "\u001b[32m[I 2023-05-21 18:58:00,320]\u001b[0m Trial 57 finished with value: 0.8639817849308014 and parameters: {'num_epochs': 25, 'learning_rate': 0.0020598453589609446}. Best is trial 44 with value: 0.8780662344034484.\u001b[0m\n",
            "\u001b[32m[I 2023-05-21 18:58:02,229]\u001b[0m Trial 58 pruned. \u001b[0m\n",
            "\u001b[32m[I 2023-05-21 18:58:06,269]\u001b[0m Trial 59 pruned. \u001b[0m\n",
            "\u001b[32m[I 2023-05-21 18:58:08,919]\u001b[0m Trial 60 pruned. \u001b[0m\n",
            "\u001b[32m[I 2023-05-21 18:58:09,931]\u001b[0m Trial 61 pruned. \u001b[0m\n",
            "\u001b[32m[I 2023-05-21 18:58:10,835]\u001b[0m Trial 62 pruned. \u001b[0m\n",
            "\u001b[32m[I 2023-05-21 18:58:13,159]\u001b[0m Trial 63 finished with value: 0.8763790859214383 and parameters: {'num_epochs': 22, 'learning_rate': 0.003957380950962887}. Best is trial 44 with value: 0.8780662344034484.\u001b[0m\n",
            "\u001b[32m[I 2023-05-21 18:58:23,100]\u001b[0m Trial 64 pruned. \u001b[0m\n",
            "\u001b[32m[I 2023-05-21 18:58:25,130]\u001b[0m Trial 65 pruned. \u001b[0m\n",
            "\u001b[32m[I 2023-05-21 18:58:26,495]\u001b[0m Trial 66 pruned. \u001b[0m\n",
            "\u001b[32m[I 2023-05-21 18:58:29,173]\u001b[0m Trial 67 pruned. \u001b[0m\n",
            "\u001b[32m[I 2023-05-21 18:58:31,614]\u001b[0m Trial 68 finished with value: 0.8728478360481573 and parameters: {'num_epochs': 23, 'learning_rate': 0.004048204091506269}. Best is trial 44 with value: 0.8780662344034484.\u001b[0m\n",
            "\u001b[32m[I 2023-05-21 18:58:45,223]\u001b[0m Trial 69 pruned. \u001b[0m\n",
            "\u001b[32m[I 2023-05-21 18:58:46,499]\u001b[0m Trial 70 pruned. \u001b[0m\n",
            "\u001b[32m[I 2023-05-21 18:58:47,329]\u001b[0m Trial 71 pruned. \u001b[0m\n",
            "\u001b[32m[I 2023-05-21 18:58:49,554]\u001b[0m Trial 72 pruned. \u001b[0m\n",
            "\u001b[32m[I 2023-05-21 18:58:50,692]\u001b[0m Trial 73 pruned. \u001b[0m\n",
            "\u001b[32m[I 2023-05-21 18:58:52,398]\u001b[0m Trial 74 pruned. \u001b[0m\n",
            "\u001b[32m[I 2023-05-21 18:59:00,372]\u001b[0m Trial 75 pruned. \u001b[0m\n",
            "\u001b[32m[I 2023-05-21 18:59:02,687]\u001b[0m Trial 76 finished with value: 0.8771808084863082 and parameters: {'num_epochs': 22, 'learning_rate': 0.0031223263126294717}. Best is trial 44 with value: 0.8780662344034484.\u001b[0m\n",
            "\u001b[32m[I 2023-05-21 18:59:03,817]\u001b[0m Trial 77 pruned. \u001b[0m\n",
            "\u001b[32m[I 2023-05-21 18:59:06,491]\u001b[0m Trial 78 pruned. \u001b[0m\n",
            "\u001b[32m[I 2023-05-21 18:59:09,789]\u001b[0m Trial 79 pruned. \u001b[0m\n",
            "\u001b[32m[I 2023-05-21 18:59:13,749]\u001b[0m Trial 80 pruned. \u001b[0m\n",
            "\u001b[32m[I 2023-05-21 18:59:17,215]\u001b[0m Trial 81 finished with value: 0.8747193168132549 and parameters: {'num_epochs': 33, 'learning_rate': 0.004154503649189921}. Best is trial 44 with value: 0.8780662344034484.\u001b[0m\n",
            "\u001b[32m[I 2023-05-21 18:59:18,045]\u001b[0m Trial 82 pruned. \u001b[0m\n",
            "\u001b[32m[I 2023-05-21 18:59:20,292]\u001b[0m Trial 83 pruned. \u001b[0m\n",
            "\u001b[32m[I 2023-05-21 18:59:21,747]\u001b[0m Trial 84 pruned. \u001b[0m\n",
            "\u001b[32m[I 2023-05-21 18:59:25,561]\u001b[0m Trial 85 finished with value: 0.873130453470879 and parameters: {'num_epochs': 36, 'learning_rate': 0.003722726073970449}. Best is trial 44 with value: 0.8780662344034484.\u001b[0m\n",
            "\u001b[32m[I 2023-05-21 18:59:29,381]\u001b[0m Trial 86 pruned. \u001b[0m\n",
            "\u001b[32m[I 2023-05-21 18:59:30,226]\u001b[0m Trial 87 pruned. \u001b[0m\n",
            "\u001b[32m[I 2023-05-21 18:59:33,349]\u001b[0m Trial 88 pruned. \u001b[0m\n",
            "\u001b[32m[I 2023-05-21 18:59:35,743]\u001b[0m Trial 89 pruned. \u001b[0m\n",
            "\u001b[32m[I 2023-05-21 18:59:38,248]\u001b[0m Trial 90 pruned. \u001b[0m\n",
            "\u001b[32m[I 2023-05-21 18:59:39,161]\u001b[0m Trial 91 pruned. \u001b[0m\n",
            "\u001b[32m[I 2023-05-21 18:59:40,628]\u001b[0m Trial 92 pruned. \u001b[0m\n",
            "\u001b[32m[I 2023-05-21 18:59:44,920]\u001b[0m Trial 93 finished with value: 0.864651087348799 and parameters: {'num_epochs': 41, 'learning_rate': 0.004164066026321774}. Best is trial 44 with value: 0.8780662344034484.\u001b[0m\n",
            "\u001b[32m[I 2023-05-21 18:59:45,667]\u001b[0m Trial 94 pruned. \u001b[0m\n",
            "\u001b[32m[I 2023-05-21 18:59:47,463]\u001b[0m Trial 95 pruned. \u001b[0m\n",
            "\u001b[32m[I 2023-05-21 18:59:49,691]\u001b[0m Trial 96 finished with value: 0.8815193119472526 and parameters: {'num_epochs': 21, 'learning_rate': 0.004760709555638973}. Best is trial 96 with value: 0.8815193119472526.\u001b[0m\n",
            "\u001b[32m[I 2023-05-21 18:59:50,960]\u001b[0m Trial 97 pruned. \u001b[0m\n",
            "\u001b[32m[I 2023-05-21 18:59:53,123]\u001b[0m Trial 98 pruned. \u001b[0m\n",
            "\u001b[32m[I 2023-05-21 18:59:53,560]\u001b[0m Trial 99 pruned. \u001b[0m\n"
          ]
        }
      ],
      "source": [
        "study = optuna.create_study(direction=\"maximize\", pruner=optuna.pruners.MedianPruner())\n",
        "study.optimize(objective_cv, n_trials=100)\n",
        "\n",
        "#clear_output()"
      ]
    },
    {
      "cell_type": "code",
      "source": [
        "study.best_params, study.best_value"
      ],
      "metadata": {
        "id": "MG5rqM7bPWaG",
        "colab": {
          "base_uri": "https://localhost:8080/"
        },
        "outputId": "e3270351-4986-403c-da49-ede56c3b1989"
      },
      "execution_count": 13,
      "outputs": [
        {
          "output_type": "execute_result",
          "data": {
            "text/plain": [
              "({'num_epochs': 21, 'learning_rate': 0.004760709555638973}, 0.8815193119472526)"
            ]
          },
          "metadata": {},
          "execution_count": 13
        }
      ]
    },
    {
      "cell_type": "markdown",
      "source": [
        "# Comparing models with and without pretraining"
      ],
      "metadata": {
        "id": "nK2ZhOpZJb-G"
      }
    },
    {
      "cell_type": "code",
      "source": [
        "pretrained_path = \"models/lstm_pretrained_ace2.pt\""
      ],
      "metadata": {
        "id": "RsO0T3deP_pv"
      },
      "execution_count": 14,
      "outputs": []
    },
    {
      "cell_type": "code",
      "execution_count": null,
      "metadata": {
        "id": "n6PQO7dFAdh8"
      },
      "outputs": [],
      "source": [
        "batch_size = 256\n",
        "dict_accuracy = defaultdict(list)\n",
        "dict_precision = defaultdict(list)\n",
        "dict_recall = defaultdict(list)\n",
        "dict_f1  = defaultdict(list)\n",
        "dict_roc_auc = defaultdict(list)\n",
        "\n",
        "train_types = ['basic', 'pretrained']\n",
        "\n",
        "whole_dataset_len = len(train_ly16)\n",
        "\n",
        "for _ in range(40):\n",
        "    print(_)\n",
        "    train_small, _ = train_test_split(train_ly16, train_size=1000 / whole_dataset_len, \n",
        "                                          random_state=SEED, stratify=train_ly16['Label'])\n",
        "    trainloader_ly16 = make_dataloader(train_small, batch_size=batch_size, shuffle=True)\n",
        "\n",
        "    for train_type in train_types:\n",
        "        if train_type == 'basic':\n",
        "            lstm =  LSTMModel(input_size=20, hidden_size=80, num_layers=3, dropout=0.2).to(device)\n",
        "            train_model(num_epochs=568, learning_rate=0.004568420560776651,\n",
        "                        model=lstm, trainload=trainloader_ly16,\n",
        "                        criterion=nn.BCEWithLogitsLoss, optim=torch.optim.Adam, print_epoch=False, device=device)\n",
        "            \n",
        "            mean_accuracy, mean_precision, mean_recall, mean_f1, mean_roc_auc = eval_model(model=lstm, testload=testloader_ly16, \n",
        "                                                                                           device=device)\n",
        "            \n",
        "        elif train_type == 'pretrained':\n",
        "            lstm =  LSTMModel(input_size=20, hidden_size=80, num_layers=3, dropout=0.2).to(device)\n",
        "\n",
        "            lstm.load_state_dict(torch.load(pretrained_path))\n",
        "\n",
        "            train_model(num_epochs=21, learning_rate=0.004760709555638973,\n",
        "                        model=lstm, trainload=trainloader_ly16,\n",
        "                        criterion=nn.BCEWithLogitsLoss, optim=torch.optim.Adam, print_epoch=False, device=device)\n",
        "            \n",
        "            mean_accuracy, mean_precision, mean_recall, mean_f1, mean_roc_auc = eval_model(model=lstm, testload=testloader_ly16, \n",
        "                                                                                           device=device)\n",
        "\n",
        "        dict_accuracy[train_type].append(mean_accuracy)\n",
        "        dict_precision[train_type].append(mean_precision)\n",
        "        dict_recall[train_type].append(mean_recall)\n",
        "        dict_f1[train_type].append(mean_f1)\n",
        "        dict_roc_auc[train_type].append(mean_roc_auc)"
      ]
    },
    {
      "cell_type": "code",
      "execution_count": 16,
      "metadata": {
        "id": "cTm446c3WciO"
      },
      "outputs": [],
      "source": [
        "metric_dicts = [dict_accuracy, dict_precision, dict_recall, dict_f1, dict_roc_auc]"
      ]
    },
    {
      "cell_type": "code",
      "execution_count": 17,
      "metadata": {
        "colab": {
          "base_uri": "https://localhost:8080/"
        },
        "id": "JjNE7SPdWciO",
        "outputId": "98f9a970-f4da-4d2e-f012-ec977fcd6330"
      },
      "outputs": [
        {
          "output_type": "stream",
          "name": "stdout",
          "text": [
            "basic 0.7969272070693225\n",
            "pretrained 0.8294700577942251\n",
            "basic 0.795974312456355\n",
            "pretrained 0.8327620091895389\n",
            "basic 0.7937561932596542\n",
            "pretrained 0.8244411105519267\n",
            "basic 0.7940371178800795\n",
            "pretrained 0.8261121268334535\n",
            "basic 0.8687820936443653\n",
            "pretrained 0.9028050811917019\n"
          ]
        }
      ],
      "source": [
        "for metric_dict in metric_dicts:\n",
        "    for name, values in metric_dict.items():\n",
        "        print(name, np.mean(values))"
      ]
    },
    {
      "cell_type": "code",
      "execution_count": 18,
      "metadata": {
        "id": "HwG9QTESmAGU"
      },
      "outputs": [],
      "source": [
        "from scipy.stats import ttest_rel"
      ]
    },
    {
      "cell_type": "code",
      "execution_count": 19,
      "metadata": {
        "id": "k16dm9UWn85D"
      },
      "outputs": [],
      "source": [
        "pvalue = ttest_rel(dict_roc_auc['basic'], dict_roc_auc['pretrained']).pvalue"
      ]
    },
    {
      "cell_type": "code",
      "source": [
        "sns.boxplot(pd.DataFrame(dict_roc_auc), palette=\"pastel\", showfliers=False)\n",
        "#plt.ylim(0.86, 0.9)\n",
        "plt.title(\"ROC AUC score\")\n",
        "plt.text(0.2, 0.909, f\"p-value = {pvalue:.1e}\")\n",
        "plt.savefig(\"roc_auc_transfer_learning.png\")"
      ],
      "metadata": {
        "colab": {
          "base_uri": "https://localhost:8080/",
          "height": 802
        },
        "id": "eggQJMeLQPiR",
        "outputId": "af2c771d-27ff-4867-98c7-ed460b0e2bd3"
      },
      "execution_count": 22,
      "outputs": [
        {
          "output_type": "display_data",
          "data": {
            "text/plain": [
              "<Figure size 1200x900 with 1 Axes>"
            ],
            "image/png": "[encoded data removed]"
          },
          "metadata": {}
        }
      ]
    },
    {
      "cell_type": "markdown",
      "source": [
        "## Save metrics to json"
      ],
      "metadata": {
        "id": "ptTKPOnAKL84"
      }
    },
    {
      "cell_type": "code",
      "execution_count": null,
      "metadata": {
        "id": "7O82_xFmbiPy"
      },
      "outputs": [],
      "source": [
        "import json\n",
        "from google.colab import files"
      ]
    },
    {
      "cell_type": "code",
      "execution_count": null,
      "metadata": {
        "id": "DW2EPV5EcwOv"
      },
      "outputs": [],
      "source": [
        "with open(\"accuracy.json\", \"w\") as write_file:\n",
        "    json.dump(dict_accuracy, write_file)\n",
        "\n",
        "with open(\"precision.json\", \"w\") as write_file:\n",
        "    json.dump(dict_precision, write_file)\n",
        "\n",
        "with open(\"recall.json\", \"w\") as write_file:\n",
        "    json.dump(dict_recall, write_file)\n",
        "\n",
        "with open(\"f1.json\", \"w\") as write_file:\n",
        "    json.dump(dict_f1, write_file)\n",
        "\n",
        "with open(\"roc_auc.json\", \"w\") as write_file:\n",
        "    json.dump(dict_roc_auc, write_file)"
      ]
    },
    {
      "cell_type": "code",
      "execution_count": null,
      "metadata": {
        "colab": {
          "base_uri": "https://localhost:8080/",
          "height": 17
        },
        "id": "Dy02z57BmVXr",
        "outputId": "20eee3c5-57a5-45c0-cf2d-5856c2fcfc44"
      },
      "outputs": [
        {
          "output_type": "display_data",
          "data": {
            "text/plain": [
              "<IPython.core.display.Javascript object>"
            ],
            "application/javascript": [
              "\n",
              "    async function download(id, filename, size) {\n",
              "      if (!google.colab.kernel.accessAllowed) {\n",
              "        return;\n",
              "      }\n",
              "      const div = document.createElement('div');\n",
              "      const label = document.createElement('label');\n",
              "      label.textContent = `Downloading \"${filename}\": `;\n",
              "      div.appendChild(label);\n",
              "      const progress = document.createElement('progress');\n",
              "      progress.max = size;\n",
              "      div.appendChild(progress);\n",
              "      document.body.appendChild(div);\n",
              "\n",
              "      const buffers = [];\n",
              "      let downloaded = 0;\n",
              "\n",
              "      const channel = await google.colab.kernel.comms.open(id);\n",
              "      // Send a message to notify the kernel that we're ready.\n",
              "      channel.send({})\n",
              "\n",
              "      for await (const message of channel.messages) {\n",
              "        // Send a message to notify the kernel that we're ready.\n",
              "        channel.send({})\n",
              "        if (message.buffers) {\n",
              "          for (const buffer of message.buffers) {\n",
              "            buffers.push(buffer);\n",
              "            downloaded += buffer.byteLength;\n",
              "            progress.value = downloaded;\n",
              "          }\n",
              "        }\n",
              "      }\n",
              "      const blob = new Blob(buffers, {type: 'application/binary'});\n",
              "      const a = document.createElement('a');\n",
              "      a.href = window.URL.createObjectURL(blob);\n",
              "      a.download = filename;\n",
              "      div.appendChild(a);\n",
              "      a.click();\n",
              "      div.remove();\n",
              "    }\n",
              "  "
            ]
          },
          "metadata": {}
        },
        {
          "output_type": "display_data",
          "data": {
            "text/plain": [
              "<IPython.core.display.Javascript object>"
            ],
            "application/javascript": [
              "download(\"download_8be5f424-9a6a-48b5-958f-f423c3fcdf6e\", \"accuracy.json\", 425)"
            ]
          },
          "metadata": {}
        },
        {
          "output_type": "display_data",
          "data": {
            "text/plain": [
              "<IPython.core.display.Javascript object>"
            ],
            "application/javascript": [
              "\n",
              "    async function download(id, filename, size) {\n",
              "      if (!google.colab.kernel.accessAllowed) {\n",
              "        return;\n",
              "      }\n",
              "      const div = document.createElement('div');\n",
              "      const label = document.createElement('label');\n",
              "      label.textContent = `Downloading \"${filename}\": `;\n",
              "      div.appendChild(label);\n",
              "      const progress = document.createElement('progress');\n",
              "      progress.max = size;\n",
              "      div.appendChild(progress);\n",
              "      document.body.appendChild(div);\n",
              "\n",
              "      const buffers = [];\n",
              "      let downloaded = 0;\n",
              "\n",
              "      const channel = await google.colab.kernel.comms.open(id);\n",
              "      // Send a message to notify the kernel that we're ready.\n",
              "      channel.send({})\n",
              "\n",
              "      for await (const message of channel.messages) {\n",
              "        // Send a message to notify the kernel that we're ready.\n",
              "        channel.send({})\n",
              "        if (message.buffers) {\n",
              "          for (const buffer of message.buffers) {\n",
              "            buffers.push(buffer);\n",
              "            downloaded += buffer.byteLength;\n",
              "            progress.value = downloaded;\n",
              "          }\n",
              "        }\n",
              "      }\n",
              "      const blob = new Blob(buffers, {type: 'application/binary'});\n",
              "      const a = document.createElement('a');\n",
              "      a.href = window.URL.createObjectURL(blob);\n",
              "      a.download = filename;\n",
              "      div.appendChild(a);\n",
              "      a.click();\n",
              "      div.remove();\n",
              "    }\n",
              "  "
            ]
          },
          "metadata": {}
        },
        {
          "output_type": "display_data",
          "data": {
            "text/plain": [
              "<IPython.core.display.Javascript object>"
            ],
            "application/javascript": [
              "download(\"download_357a1feb-1c4a-496c-9ab2-69b6be90ae34\", \"precision.json\", 424)"
            ]
          },
          "metadata": {}
        },
        {
          "output_type": "display_data",
          "data": {
            "text/plain": [
              "<IPython.core.display.Javascript object>"
            ],
            "application/javascript": [
              "\n",
              "    async function download(id, filename, size) {\n",
              "      if (!google.colab.kernel.accessAllowed) {\n",
              "        return;\n",
              "      }\n",
              "      const div = document.createElement('div');\n",
              "      const label = document.createElement('label');\n",
              "      label.textContent = `Downloading \"${filename}\": `;\n",
              "      div.appendChild(label);\n",
              "      const progress = document.createElement('progress');\n",
              "      progress.max = size;\n",
              "      div.appendChild(progress);\n",
              "      document.body.appendChild(div);\n",
              "\n",
              "      const buffers = [];\n",
              "      let downloaded = 0;\n",
              "\n",
              "      const channel = await google.colab.kernel.comms.open(id);\n",
              "      // Send a message to notify the kernel that we're ready.\n",
              "      channel.send({})\n",
              "\n",
              "      for await (const message of channel.messages) {\n",
              "        // Send a message to notify the kernel that we're ready.\n",
              "        channel.send({})\n",
              "        if (message.buffers) {\n",
              "          for (const buffer of message.buffers) {\n",
              "            buffers.push(buffer);\n",
              "            downloaded += buffer.byteLength;\n",
              "            progress.value = downloaded;\n",
              "          }\n",
              "        }\n",
              "      }\n",
              "      const blob = new Blob(buffers, {type: 'application/binary'});\n",
              "      const a = document.createElement('a');\n",
              "      a.href = window.URL.createObjectURL(blob);\n",
              "      a.download = filename;\n",
              "      div.appendChild(a);\n",
              "      a.click();\n",
              "      div.remove();\n",
              "    }\n",
              "  "
            ]
          },
          "metadata": {}
        },
        {
          "output_type": "display_data",
          "data": {
            "text/plain": [
              "<IPython.core.display.Javascript object>"
            ],
            "application/javascript": [
              "download(\"download_c3ce702b-15c4-4a8d-ad93-a1326e7af513\", \"recall.json\", 425)"
            ]
          },
          "metadata": {}
        },
        {
          "output_type": "display_data",
          "data": {
            "text/plain": [
              "<IPython.core.display.Javascript object>"
            ],
            "application/javascript": [
              "\n",
              "    async function download(id, filename, size) {\n",
              "      if (!google.colab.kernel.accessAllowed) {\n",
              "        return;\n",
              "      }\n",
              "      const div = document.createElement('div');\n",
              "      const label = document.createElement('label');\n",
              "      label.textContent = `Downloading \"${filename}\": `;\n",
              "      div.appendChild(label);\n",
              "      const progress = document.createElement('progress');\n",
              "      progress.max = size;\n",
              "      div.appendChild(progress);\n",
              "      document.body.appendChild(div);\n",
              "\n",
              "      const buffers = [];\n",
              "      let downloaded = 0;\n",
              "\n",
              "      const channel = await google.colab.kernel.comms.open(id);\n",
              "      // Send a message to notify the kernel that we're ready.\n",
              "      channel.send({})\n",
              "\n",
              "      for await (const message of channel.messages) {\n",
              "        // Send a message to notify the kernel that we're ready.\n",
              "        channel.send({})\n",
              "        if (message.buffers) {\n",
              "          for (const buffer of message.buffers) {\n",
              "            buffers.push(buffer);\n",
              "            downloaded += buffer.byteLength;\n",
              "            progress.value = downloaded;\n",
              "          }\n",
              "        }\n",
              "      }\n",
              "      const blob = new Blob(buffers, {type: 'application/binary'});\n",
              "      const a = document.createElement('a');\n",
              "      a.href = window.URL.createObjectURL(blob);\n",
              "      a.download = filename;\n",
              "      div.appendChild(a);\n",
              "      a.click();\n",
              "      div.remove();\n",
              "    }\n",
              "  "
            ]
          },
          "metadata": {}
        },
        {
          "output_type": "display_data",
          "data": {
            "text/plain": [
              "<IPython.core.display.Javascript object>"
            ],
            "application/javascript": [
              "download(\"download_34e2bff0-c0a7-4260-a692-cb1e1511ce24\", \"f1.json\", 424)"
            ]
          },
          "metadata": {}
        },
        {
          "output_type": "display_data",
          "data": {
            "text/plain": [
              "<IPython.core.display.Javascript object>"
            ],
            "application/javascript": [
              "\n",
              "    async function download(id, filename, size) {\n",
              "      if (!google.colab.kernel.accessAllowed) {\n",
              "        return;\n",
              "      }\n",
              "      const div = document.createElement('div');\n",
              "      const label = document.createElement('label');\n",
              "      label.textContent = `Downloading \"${filename}\": `;\n",
              "      div.appendChild(label);\n",
              "      const progress = document.createElement('progress');\n",
              "      progress.max = size;\n",
              "      div.appendChild(progress);\n",
              "      document.body.appendChild(div);\n",
              "\n",
              "      const buffers = [];\n",
              "      let downloaded = 0;\n",
              "\n",
              "      const channel = await google.colab.kernel.comms.open(id);\n",
              "      // Send a message to notify the kernel that we're ready.\n",
              "      channel.send({})\n",
              "\n",
              "      for await (const message of channel.messages) {\n",
              "        // Send a message to notify the kernel that we're ready.\n",
              "        channel.send({})\n",
              "        if (message.buffers) {\n",
              "          for (const buffer of message.buffers) {\n",
              "            buffers.push(buffer);\n",
              "            downloaded += buffer.byteLength;\n",
              "            progress.value = downloaded;\n",
              "          }\n",
              "        }\n",
              "      }\n",
              "      const blob = new Blob(buffers, {type: 'application/binary'});\n",
              "      const a = document.createElement('a');\n",
              "      a.href = window.URL.createObjectURL(blob);\n",
              "      a.download = filename;\n",
              "      div.appendChild(a);\n",
              "      a.click();\n",
              "      div.remove();\n",
              "    }\n",
              "  "
            ]
          },
          "metadata": {}
        },
        {
          "output_type": "display_data",
          "data": {
            "text/plain": [
              "<IPython.core.display.Javascript object>"
            ],
            "application/javascript": [
              "download(\"download_97773dfe-7eb0-4f77-818f-56317b06c6d3\", \"roc_auc.json\", 425)"
            ]
          },
          "metadata": {}
        }
      ],
      "source": [
        "files.download(\"accuracy.json\")\n",
        "files.download(\"precision.json\")\n",
        "files.download(\"recall.json\")\n",
        "files.download(\"f1.json\")\n",
        "files.download(\"roc_auc.json\")"
      ]
    },
    {
      "cell_type": "code",
      "source": [],
      "metadata": {
        "id": "AhFlkXdBs_c3"
      },
      "execution_count": null,
      "outputs": []
    }
  ]
}