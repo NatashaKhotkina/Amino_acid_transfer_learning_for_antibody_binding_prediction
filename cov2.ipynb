{
  "nbformat": 4,
  "nbformat_minor": 0,
  "metadata": {
    "colab": {
      "provenance": [],
      "authorship_tag": "ABX9TyPMlJ5tGKTIXyesBvaIhD/1",
      "include_colab_link": true
    },
    "kernelspec": {
      "name": "python3",
      "display_name": "Python 3"
    },
    "language_info": {
      "name": "python"
    },
    "accelerator": "GPU",
    "gpuClass": "standard"
  },
  "cells": [
    {
      "cell_type": "markdown",
      "metadata": {
        "id": "view-in-github",
        "colab_type": "text"
      },
      "source": [
        "<a href=\"https://colab.research.google.com/github/NatashaKhotkina/Amino_acid_transfer_learning_for_antibody_binding_prediction/blob/main/cov2.ipynb\" target=\"_parent\"><img src=\"https://colab.research.google.com/assets/colab-badge.svg\" alt=\"Open In Colab\"/></a>"
      ]
    },
    {
      "cell_type": "code",
      "execution_count": 1,
      "metadata": {
        "id": "TX9JjHu0gWmE"
      },
      "outputs": [],
      "source": [
        "import matplotlib.pyplot as plt\n",
        "import seaborn as sns\n",
        "import pandas as pd\n",
        "import numpy as np\n",
        "\n",
        "import sklearn\n",
        "from sklearn.ensemble import RandomForestClassifier\n",
        "from sklearn.preprocessing import OneHotEncoder\n",
        "from sklearn.metrics import accuracy_score, precision_score, recall_score, f1_score"
      ]
    },
    {
      "cell_type": "markdown",
      "source": [
        "# Reading tha Data"
      ],
      "metadata": {
        "id": "GC40ct7VUFzF"
      }
    },
    {
      "cell_type": "code",
      "source": [
        "from google.colab import drive\n",
        "drive.mount('/content/gdrive')"
      ],
      "metadata": {
        "colab": {
          "base_uri": "https://localhost:8080/"
        },
        "id": "GENnSwxyggTO",
        "outputId": "62bbd576-01f2-419b-a982-ba9c1860d78b"
      },
      "execution_count": 3,
      "outputs": [
        {
          "output_type": "stream",
          "name": "stdout",
          "text": [
            "Mounted at /content/gdrive\n"
          ]
        }
      ]
    },
    {
      "cell_type": "code",
      "source": [
        "train_ly16 = pd.read_csv(\"/content/gdrive/MyDrive/BI_project/LY16_train_data.csv\")\n",
        "test_ly16 = pd.read_csv(\"/content/gdrive/MyDrive/BI_project/LY16_test_data.csv\")"
      ],
      "metadata": {
        "id": "F9DMliEgh6jd"
      },
      "execution_count": 4,
      "outputs": []
    },
    {
      "cell_type": "code",
      "source": [
        "test_ly16.head()"
      ],
      "metadata": {
        "colab": {
          "base_uri": "https://localhost:8080/",
          "height": 206
        },
        "id": "Li_jt0g8iR2Z",
        "outputId": "13181ff2-938d-4612-87df-d1df34fafef9"
      },
      "execution_count": 4,
      "outputs": [
        {
          "output_type": "execute_result",
          "data": {
            "text/plain": [
              "   Unnamed: 0               junction_aa    v_call  consensus_count    j_call  \\\n",
              "0       56910  KNTGFNCYFPLLAYGFHPTSGVDY  IGHV_RBD                1  IGHJ_RBD   \n",
              "1        4131  KNPGFNCYHPIVGYGFQPTIGHDF  IGHV_RBD                1  IGHJ_RBD   \n",
              "2       46782  TTAGFNCYMPITRYGFWPTDGRSW  IGHV_RBD                1  IGHJ_RBD   \n",
              "3       11781  RNRGFNCYDPIHKYGFHRTNGLNY  IGHV_RBD                1  IGHJ_RBD   \n",
              "4       33282  KNKKFNCYVPLVTYGFHPTNGVNY  IGHV_RBD                1  IGHJ_RBD   \n",
              "\n",
              "   clonal_frequency  Label  Distance Antibody  \n",
              "0          0.000063      0         6     LY16  \n",
              "1          0.000047      1         9     LY16  \n",
              "2          0.000028      0        12     LY16  \n",
              "3          0.000047      1        10     LY16  \n",
              "4          0.000028      0         7     LY16  "
            ],
            "text/html": [
              "\n",
              "  <div id=\"df-9daf5f00-bd33-4deb-93f0-85c0c2255244\">\n",
              "    <div class=\"colab-df-container\">\n",
              "      <div>\n",
              "<style scoped>\n",
              "    .dataframe tbody tr th:only-of-type {\n",
              "        vertical-align: middle;\n",
              "    }\n",
              "\n",
              "    .dataframe tbody tr th {\n",
              "        vertical-align: top;\n",
              "    }\n",
              "\n",
              "    .dataframe thead th {\n",
              "        text-align: right;\n",
              "    }\n",
              "</style>\n",
              "<table border=\"1\" class=\"dataframe\">\n",
              "  <thead>\n",
              "    <tr style=\"text-align: right;\">\n",
              "      <th></th>\n",
              "      <th>Unnamed: 0</th>\n",
              "      <th>junction_aa</th>\n",
              "      <th>v_call</th>\n",
              "      <th>consensus_count</th>\n",
              "      <th>j_call</th>\n",
              "      <th>clonal_frequency</th>\n",
              "      <th>Label</th>\n",
              "      <th>Distance</th>\n",
              "      <th>Antibody</th>\n",
              "    </tr>\n",
              "  </thead>\n",
              "  <tbody>\n",
              "    <tr>\n",
              "      <th>0</th>\n",
              "      <td>56910</td>\n",
              "      <td>KNTGFNCYFPLLAYGFHPTSGVDY</td>\n",
              "      <td>IGHV_RBD</td>\n",
              "      <td>1</td>\n",
              "      <td>IGHJ_RBD</td>\n",
              "      <td>0.000063</td>\n",
              "      <td>0</td>\n",
              "      <td>6</td>\n",
              "      <td>LY16</td>\n",
              "    </tr>\n",
              "    <tr>\n",
              "      <th>1</th>\n",
              "      <td>4131</td>\n",
              "      <td>KNPGFNCYHPIVGYGFQPTIGHDF</td>\n",
              "      <td>IGHV_RBD</td>\n",
              "      <td>1</td>\n",
              "      <td>IGHJ_RBD</td>\n",
              "      <td>0.000047</td>\n",
              "      <td>1</td>\n",
              "      <td>9</td>\n",
              "      <td>LY16</td>\n",
              "    </tr>\n",
              "    <tr>\n",
              "      <th>2</th>\n",
              "      <td>46782</td>\n",
              "      <td>TTAGFNCYMPITRYGFWPTDGRSW</td>\n",
              "      <td>IGHV_RBD</td>\n",
              "      <td>1</td>\n",
              "      <td>IGHJ_RBD</td>\n",
              "      <td>0.000028</td>\n",
              "      <td>0</td>\n",
              "      <td>12</td>\n",
              "      <td>LY16</td>\n",
              "    </tr>\n",
              "    <tr>\n",
              "      <th>3</th>\n",
              "      <td>11781</td>\n",
              "      <td>RNRGFNCYDPIHKYGFHRTNGLNY</td>\n",
              "      <td>IGHV_RBD</td>\n",
              "      <td>1</td>\n",
              "      <td>IGHJ_RBD</td>\n",
              "      <td>0.000047</td>\n",
              "      <td>1</td>\n",
              "      <td>10</td>\n",
              "      <td>LY16</td>\n",
              "    </tr>\n",
              "    <tr>\n",
              "      <th>4</th>\n",
              "      <td>33282</td>\n",
              "      <td>KNKKFNCYVPLVTYGFHPTNGVNY</td>\n",
              "      <td>IGHV_RBD</td>\n",
              "      <td>1</td>\n",
              "      <td>IGHJ_RBD</td>\n",
              "      <td>0.000028</td>\n",
              "      <td>0</td>\n",
              "      <td>7</td>\n",
              "      <td>LY16</td>\n",
              "    </tr>\n",
              "  </tbody>\n",
              "</table>\n",
              "</div>\n",
              "      <button class=\"colab-df-convert\" onclick=\"convertToInteractive('df-9daf5f00-bd33-4deb-93f0-85c0c2255244')\"\n",
              "              title=\"Convert this dataframe to an interactive table.\"\n",
              "              style=\"display:none;\">\n",
              "        \n",
              "  <svg xmlns=\"http://www.w3.org/2000/svg\" height=\"24px\"viewBox=\"0 0 24 24\"\n",
              "       width=\"24px\">\n",
              "    <path d=\"M0 0h24v24H0V0z\" fill=\"none\"/>\n",
              "    <path d=\"M18.56 5.44l.94 2.06.94-2.06 2.06-.94-2.06-.94-.94-2.06-.94 2.06-2.06.94zm-11 1L8.5 8.5l.94-2.06 2.06-.94-2.06-.94L8.5 2.5l-.94 2.06-2.06.94zm10 10l.94 2.06.94-2.06 2.06-.94-2.06-.94-.94-2.06-.94 2.06-2.06.94z\"/><path d=\"M17.41 7.96l-1.37-1.37c-.4-.4-.92-.59-1.43-.59-.52 0-1.04.2-1.43.59L10.3 9.45l-7.72 7.72c-.78.78-.78 2.05 0 2.83L4 21.41c.39.39.9.59 1.41.59.51 0 1.02-.2 1.41-.59l7.78-7.78 2.81-2.81c.8-.78.8-2.07 0-2.86zM5.41 20L4 18.59l7.72-7.72 1.47 1.35L5.41 20z\"/>\n",
              "  </svg>\n",
              "      </button>\n",
              "      \n",
              "  <style>\n",
              "    .colab-df-container {\n",
              "      display:flex;\n",
              "      flex-wrap:wrap;\n",
              "      gap: 12px;\n",
              "    }\n",
              "\n",
              "    .colab-df-convert {\n",
              "      background-color: #E8F0FE;\n",
              "      border: none;\n",
              "      border-radius: 50%;\n",
              "      cursor: pointer;\n",
              "      display: none;\n",
              "      fill: #1967D2;\n",
              "      height: 32px;\n",
              "      padding: 0 0 0 0;\n",
              "      width: 32px;\n",
              "    }\n",
              "\n",
              "    .colab-df-convert:hover {\n",
              "      background-color: #E2EBFA;\n",
              "      box-shadow: 0px 1px 2px rgba(60, 64, 67, 0.3), 0px 1px 3px 1px rgba(60, 64, 67, 0.15);\n",
              "      fill: #174EA6;\n",
              "    }\n",
              "\n",
              "    [theme=dark] .colab-df-convert {\n",
              "      background-color: #3B4455;\n",
              "      fill: #D2E3FC;\n",
              "    }\n",
              "\n",
              "    [theme=dark] .colab-df-convert:hover {\n",
              "      background-color: #434B5C;\n",
              "      box-shadow: 0px 1px 3px 1px rgba(0, 0, 0, 0.15);\n",
              "      filter: drop-shadow(0px 1px 2px rgba(0, 0, 0, 0.3));\n",
              "      fill: #FFFFFF;\n",
              "    }\n",
              "  </style>\n",
              "\n",
              "      <script>\n",
              "        const buttonEl =\n",
              "          document.querySelector('#df-9daf5f00-bd33-4deb-93f0-85c0c2255244 button.colab-df-convert');\n",
              "        buttonEl.style.display =\n",
              "          google.colab.kernel.accessAllowed ? 'block' : 'none';\n",
              "\n",
              "        async function convertToInteractive(key) {\n",
              "          const element = document.querySelector('#df-9daf5f00-bd33-4deb-93f0-85c0c2255244');\n",
              "          const dataTable =\n",
              "            await google.colab.kernel.invokeFunction('convertToInteractive',\n",
              "                                                     [key], {});\n",
              "          if (!dataTable) return;\n",
              "\n",
              "          const docLinkHtml = 'Like what you see? Visit the ' +\n",
              "            '<a target=\"_blank\" href=https://colab.research.google.com/notebooks/data_table.ipynb>data table notebook</a>'\n",
              "            + ' to learn more about interactive tables.';\n",
              "          element.innerHTML = '';\n",
              "          dataTable['output_type'] = 'display_data';\n",
              "          await google.colab.output.renderOutput(dataTable, element);\n",
              "          const docLink = document.createElement('div');\n",
              "          docLink.innerHTML = docLinkHtml;\n",
              "          element.appendChild(docLink);\n",
              "        }\n",
              "      </script>\n",
              "    </div>\n",
              "  </div>\n",
              "  "
            ]
          },
          "metadata": {},
          "execution_count": 4
        }
      ]
    },
    {
      "cell_type": "code",
      "source": [
        "seq_df = train_ly16['junction_aa'].str.split('', expand = True).drop(columns=[0, 25])"
      ],
      "metadata": {
        "id": "XQ97Tjfd6C9R"
      },
      "execution_count": 5,
      "outputs": []
    },
    {
      "cell_type": "code",
      "source": [
        "aa_alph = np.unique(seq_df.values).tolist()"
      ],
      "metadata": {
        "id": "0g_P-8rxAxTv"
      },
      "execution_count": 6,
      "outputs": []
    },
    {
      "cell_type": "code",
      "source": [
        "len(aa_alph)"
      ],
      "metadata": {
        "colab": {
          "base_uri": "https://localhost:8080/"
        },
        "id": "ryo4v4hlCAud",
        "outputId": "de38f5df-28b8-40d5-d8dc-dd6fd568f898"
      },
      "execution_count": 7,
      "outputs": [
        {
          "output_type": "execute_result",
          "data": {
            "text/plain": [
              "20"
            ]
          },
          "metadata": {},
          "execution_count": 7
        }
      ]
    },
    {
      "cell_type": "code",
      "source": [
        "enc = OneHotEncoder()\n",
        "encoding = enc.fit_transform(np.array(aa_alph).reshape(-1, 1)).toarray()"
      ],
      "metadata": {
        "id": "zozmN7S0-ZwS"
      },
      "execution_count": 8,
      "outputs": []
    },
    {
      "cell_type": "code",
      "source": [
        "encoding_dict = dict(zip(aa_alph, encoding))"
      ],
      "metadata": {
        "id": "hEvPww_7Dt6R"
      },
      "execution_count": 9,
      "outputs": []
    },
    {
      "cell_type": "code",
      "source": [
        "def encoding_func(dataset):\n",
        "  encoded_list = []\n",
        "  for i in range(len(dataset)):\n",
        "    seq = dataset['junction_aa'].iloc[i]\n",
        "    seq_encodded = []\n",
        "    for letter in seq:\n",
        "      seq_encodded.append(encoding_dict[letter])\n",
        "    seq_encodded = np.array(seq_encodded)\n",
        "    encoded_list.append(seq_encodded)\n",
        "  encoded_list = np.array(encoded_list)\n",
        "  return encoded_list\n"
      ],
      "metadata": {
        "id": "ugX114lvLof0"
      },
      "execution_count": 10,
      "outputs": []
    },
    {
      "cell_type": "code",
      "source": [
        "train_ly16_encoded = encoding_func(train_ly16)\n",
        "test_ly16_encoded = encoding_func(test_ly16)"
      ],
      "metadata": {
        "id": "n0I19PS_L7RO"
      },
      "execution_count": 11,
      "outputs": []
    },
    {
      "cell_type": "code",
      "source": [
        "X_train_ly16_rf = train_ly16_encoded.reshape(train_ly16_encoded.shape[0], (train_ly16_encoded.shape[1]*train_ly16_encoded.shape[2]))\n",
        "X_test_ly16_rf = test_ly16_encoded.reshape(test_ly16_encoded.shape[0], (test_ly16_encoded.shape[1]*test_ly16_encoded.shape[2]))"
      ],
      "metadata": {
        "id": "Vc8n8e3PGFo-"
      },
      "execution_count": 12,
      "outputs": []
    },
    {
      "cell_type": "code",
      "source": [
        "y_train_ly16 = train_ly16['Label']\n",
        "y_test_ly16 = test_ly16['Label']"
      ],
      "metadata": {
        "id": "02dJMSWhikzr"
      },
      "execution_count": 13,
      "outputs": []
    },
    {
      "cell_type": "markdown",
      "source": [
        "# Random forest"
      ],
      "metadata": {
        "id": "r56ZCVRDUU9D"
      }
    },
    {
      "cell_type": "markdown",
      "source": [
        "## Ly16"
      ],
      "metadata": {
        "id": "GNwAOqPcUaKD"
      }
    },
    {
      "cell_type": "code",
      "source": [
        "clfRF = RandomForestClassifier(n_estimators=500, max_depth=150, min_samples_split=2, min_samples_leaf=1, max_features='sqrt')\n",
        "clfRF.fit(X_train_ly16_rf, y_train_ly16)"
      ],
      "metadata": {
        "colab": {
          "base_uri": "https://localhost:8080/"
        },
        "id": "Cl-NG4oZjTTm",
        "outputId": "0b6a0db0-14f3-466e-fb4e-a29da7a285d7"
      },
      "execution_count": null,
      "outputs": [
        {
          "output_type": "execute_result",
          "data": {
            "text/plain": [
              "RandomForestClassifier(max_depth=150, max_features='sqrt', n_estimators=500)"
            ]
          },
          "metadata": {},
          "execution_count": 48
        }
      ]
    },
    {
      "cell_type": "code",
      "source": [
        "y_predicted = clfRF.predict(X_test_ly16_rf)"
      ],
      "metadata": {
        "id": "Y2TxnYqc1AK2"
      },
      "execution_count": null,
      "outputs": []
    },
    {
      "cell_type": "code",
      "source": [
        "accuracy_score(y_test_ly16, y_predicted)"
      ],
      "metadata": {
        "colab": {
          "base_uri": "https://localhost:8080/"
        },
        "id": "Hou1PBUKHMEW",
        "outputId": "28cc5bda-3145-4405-94a8-aa438fa89fc6"
      },
      "execution_count": null,
      "outputs": [
        {
          "output_type": "execute_result",
          "data": {
            "text/plain": [
              "0.8861734181452963"
            ]
          },
          "metadata": {},
          "execution_count": 50
        }
      ]
    },
    {
      "cell_type": "code",
      "source": [
        "precision_score(y_test_ly16, y_predicted)"
      ],
      "metadata": {
        "colab": {
          "base_uri": "https://localhost:8080/"
        },
        "id": "oe25CMKOHqMD",
        "outputId": "345dcdf0-e70a-422a-9562-047370a5a33d"
      },
      "execution_count": null,
      "outputs": [
        {
          "output_type": "execute_result",
          "data": {
            "text/plain": [
              "0.8812877263581489"
            ]
          },
          "metadata": {},
          "execution_count": 20
        }
      ]
    },
    {
      "cell_type": "code",
      "source": [
        "recall_score(y_test_ly16, y_predicted)"
      ],
      "metadata": {
        "colab": {
          "base_uri": "https://localhost:8080/"
        },
        "id": "ygx_FJM9HuM1",
        "outputId": "8a0d5137-c43d-4a60-f32a-f51ac78ec23c"
      },
      "execution_count": null,
      "outputs": [
        {
          "output_type": "execute_result",
          "data": {
            "text/plain": [
              "0.8908474576271187"
            ]
          },
          "metadata": {},
          "execution_count": 21
        }
      ]
    },
    {
      "cell_type": "code",
      "source": [
        "f1_score(y_test_ly16, y_predicted)"
      ],
      "metadata": {
        "colab": {
          "base_uri": "https://localhost:8080/"
        },
        "id": "NIh89O7bK6Kn",
        "outputId": "95c099e8-82fe-4020-9691-df80baccd328"
      },
      "execution_count": null,
      "outputs": [
        {
          "output_type": "execute_result",
          "data": {
            "text/plain": [
              "0.8860418071476738"
            ]
          },
          "metadata": {},
          "execution_count": 22
        }
      ]
    },
    {
      "cell_type": "code",
      "source": [],
      "metadata": {
        "id": "AEYC5K7FK8JZ"
      },
      "execution_count": null,
      "outputs": []
    },
    {
      "cell_type": "markdown",
      "source": [
        "## ACE2"
      ],
      "metadata": {
        "id": "xQtNkRnnLQlf"
      }
    },
    {
      "cell_type": "code",
      "source": [
        "train_ace2 = pd.read_csv(\"/content/gdrive/MyDrive/BI_project/ACE2_train_data.csv\")\n",
        "test_ace2 = pd.read_csv(\"/content/gdrive/MyDrive/BI_project/ACE2_test_data.csv\")"
      ],
      "metadata": {
        "id": "EeSacwsvLR2P"
      },
      "execution_count": 11,
      "outputs": []
    },
    {
      "cell_type": "code",
      "source": [
        "train_ace2_encoded = encoding_func(train_ace2)\n",
        "test_ace2_encoded = encoding_func(test_ace2)"
      ],
      "metadata": {
        "id": "69Lk6aUOLdHd"
      },
      "execution_count": 12,
      "outputs": []
    },
    {
      "cell_type": "code",
      "source": [
        "X_train_ace2_rf = train_ace2_encoded.reshape(train_ace2_encoded.shape[0], (train_ace2_encoded.shape[1]*train_ace2_encoded.shape[2]))\n",
        "X_test_ace2_rf = test_ace2_encoded.reshape(test_ace2_encoded.shape[0], (test_ace2_encoded.shape[1]*test_ace2_encoded.shape[2]))"
      ],
      "metadata": {
        "id": "_kDonq91NZxm"
      },
      "execution_count": null,
      "outputs": []
    },
    {
      "cell_type": "code",
      "source": [
        "y_train_ace2 = train_ace2['Label']\n",
        "y_test_ace2 = test_ace2['Label']"
      ],
      "metadata": {
        "id": "TKwhLQErNqdU"
      },
      "execution_count": 13,
      "outputs": []
    },
    {
      "cell_type": "code",
      "source": [
        "clfRF_ace2 = RandomForestClassifier(n_estimators=500, max_depth=150, min_samples_split=2, min_samples_leaf=1, max_features='sqrt')\n",
        "clfRF_ace2.fit(X_train_ace2_rf, y_train_ace2)"
      ],
      "metadata": {
        "colab": {
          "base_uri": "https://localhost:8080/"
        },
        "id": "oIQbAc56Nwnp",
        "outputId": "d0bf0688-c803-455d-a3c7-02197518342a"
      },
      "execution_count": null,
      "outputs": [
        {
          "output_type": "execute_result",
          "data": {
            "text/plain": [
              "RandomForestClassifier(max_depth=150, max_features='sqrt', n_estimators=500)"
            ]
          },
          "metadata": {},
          "execution_count": 29
        }
      ]
    },
    {
      "cell_type": "code",
      "source": [
        "y_predicted_ace2 = clfRF_ace2.predict(X_test_ace2_rf)"
      ],
      "metadata": {
        "id": "ZAr_x-b1N5Iv"
      },
      "execution_count": null,
      "outputs": []
    },
    {
      "cell_type": "code",
      "source": [
        "accuracy_score(y_test_ace2, y_predicted_ace2)"
      ],
      "metadata": {
        "colab": {
          "base_uri": "https://localhost:8080/"
        },
        "outputId": "c4b51f1d-206b-4a03-c2f3-656dd8d1a6bd",
        "id": "z_JqZILlOFF1"
      },
      "execution_count": null,
      "outputs": [
        {
          "output_type": "execute_result",
          "data": {
            "text/plain": [
              "0.9259455872594559"
            ]
          },
          "metadata": {},
          "execution_count": 31
        }
      ]
    },
    {
      "cell_type": "code",
      "source": [
        "precision_score(y_test_ace2, y_predicted_ace2)"
      ],
      "metadata": {
        "colab": {
          "base_uri": "https://localhost:8080/"
        },
        "outputId": "41865364-7aee-4788-a3cd-d14f542aae1f",
        "id": "nYRM-aOQOFF2"
      },
      "execution_count": null,
      "outputs": [
        {
          "output_type": "execute_result",
          "data": {
            "text/plain": [
              "0.9387652744847711"
            ]
          },
          "metadata": {},
          "execution_count": 32
        }
      ]
    },
    {
      "cell_type": "code",
      "source": [
        "recall_score(y_test_ace2, y_predicted_ace2)"
      ],
      "metadata": {
        "colab": {
          "base_uri": "https://localhost:8080/"
        },
        "outputId": "3cabd9f1-5538-44a5-ec08-2f5c48e96009",
        "id": "zQ5P2h2eOFF3"
      },
      "execution_count": null,
      "outputs": [
        {
          "output_type": "execute_result",
          "data": {
            "text/plain": [
              "0.9112596264494999"
            ]
          },
          "metadata": {},
          "execution_count": 33
        }
      ]
    },
    {
      "cell_type": "code",
      "source": [
        "f1_score(y_test_ace2, y_predicted_ace2)"
      ],
      "metadata": {
        "colab": {
          "base_uri": "https://localhost:8080/"
        },
        "outputId": "64a9502b-0222-4971-8343-10c268dbed49",
        "id": "-MpM-TYROFF3"
      },
      "execution_count": null,
      "outputs": [
        {
          "output_type": "execute_result",
          "data": {
            "text/plain": [
              "0.9248079773615415"
            ]
          },
          "metadata": {},
          "execution_count": 34
        }
      ]
    },
    {
      "cell_type": "markdown",
      "source": [
        "# LSTM"
      ],
      "metadata": {
        "id": "SkXGeqV7zzOX"
      }
    },
    {
      "cell_type": "code",
      "source": [
        "import torch\n",
        "import torch.nn as nn\n",
        "import torch.optim as optim\n",
        "from torch.utils.data import DataLoader\n",
        "from torch.utils.data import Dataset"
      ],
      "metadata": {
        "id": "xA1WbvEPPjax"
      },
      "execution_count": 14,
      "outputs": []
    },
    {
      "cell_type": "code",
      "source": [
        "class MyDataset(Dataset):\n",
        "    def __init__(self, features, labels):\n",
        "        self.labels = labels\n",
        "        self.features = features\n",
        "\n",
        "    def __len__(self):\n",
        "        return len(self.features)\n",
        "\n",
        "    def __getitem__(self, idx):\n",
        "        features = self.features[idx]\n",
        "        labels = self.labels[idx]\n",
        "        return features, labels"
      ],
      "metadata": {
        "id": "IwGr9Cm76DeJ"
      },
      "execution_count": 18,
      "outputs": []
    },
    {
      "cell_type": "code",
      "source": [
        "class LSTMPredictor(nn.Module):\n",
        "\n",
        "    def __init__(self, input_size, hidden_size, num_layers):\n",
        "        # hidden_size == number of neurons \n",
        "        super().__init__()\n",
        "        #self.embeding = nn.Linear(20, 10)\n",
        "        self.num_layers = num_layers\n",
        "        self.hidden_size = hidden_size\n",
        "        self.lstm = nn.LSTM(input_size=input_size, hidden_size=hidden_size, batch_first=True, num_layers=num_layers, dropout=0.1)\n",
        "        self.fc = nn.Linear(hidden_size, 1) # Predict only one value\n",
        "        self.sigmoid = nn.Sigmoid()\n",
        "\n",
        "    def forward(self, x):\n",
        "        #x = self.embeding(x)\n",
        "        #h_0 = torch.zeros(self.num_layers, x.size(0), self.hidden_size) #hidden state\n",
        "        #c_0 = torch.zeros(self.num_layers, x.size(0), self.hidden_size) #internal state\n",
        "        out, (h,c) = self.lstm(x)\n",
        "        #print(h.shape) \n",
        "        y = self.fc(h[self.num_layers - 1])\n",
        "        y = self.sigmoid(y)\n",
        "        return y"
      ],
      "metadata": {
        "id": "PMXWbAmA30LZ"
      },
      "execution_count": 19,
      "outputs": []
    },
    {
      "cell_type": "code",
      "source": [],
      "metadata": {
        "id": "1Mfe_vmiT-Yf"
      },
      "execution_count": null,
      "outputs": []
    },
    {
      "cell_type": "markdown",
      "source": [
        "## Ly16"
      ],
      "metadata": {
        "id": "Q4Fw9N7OT-92"
      }
    },
    {
      "cell_type": "code",
      "source": [
        "X_train_ly16_nn = torch.Tensor(train_ly16_encoded)\n",
        "X_test_ly16_nn = torch.Tensor(test_ly16_encoded)"
      ],
      "metadata": {
        "id": "pjWo7Lya7C1J",
        "colab": {
          "base_uri": "https://localhost:8080/",
          "height": 182
        },
        "outputId": "77830963-46c7-4900-a0bd-09f316708085"
      },
      "execution_count": 15,
      "outputs": [
        {
          "output_type": "error",
          "ename": "NameError",
          "evalue": "ignored",
          "traceback": [
            "\u001b[0;31m---------------------------------------------------------------------------\u001b[0m",
            "\u001b[0;31mNameError\u001b[0m                                 Traceback (most recent call last)",
            "\u001b[0;32m<ipython-input-15-bb4b0cc52d32>\u001b[0m in \u001b[0;36m<module>\u001b[0;34m\u001b[0m\n\u001b[0;32m----> 1\u001b[0;31m \u001b[0mX_train_ly16_nn\u001b[0m \u001b[0;34m=\u001b[0m \u001b[0mtorch\u001b[0m\u001b[0;34m.\u001b[0m\u001b[0mTensor\u001b[0m\u001b[0;34m(\u001b[0m\u001b[0mtrain_ly16_encoded\u001b[0m\u001b[0;34m)\u001b[0m\u001b[0;34m\u001b[0m\u001b[0;34m\u001b[0m\u001b[0m\n\u001b[0m\u001b[1;32m      2\u001b[0m \u001b[0mX_test_ly16_nn\u001b[0m \u001b[0;34m=\u001b[0m \u001b[0mtorch\u001b[0m\u001b[0;34m.\u001b[0m\u001b[0mTensor\u001b[0m\u001b[0;34m(\u001b[0m\u001b[0mtest_ly16_encoded\u001b[0m\u001b[0;34m)\u001b[0m\u001b[0;34m\u001b[0m\u001b[0;34m\u001b[0m\u001b[0m\n",
            "\u001b[0;31mNameError\u001b[0m: name 'train_ly16_encoded' is not defined"
          ]
        }
      ]
    },
    {
      "cell_type": "code",
      "source": [
        "X_train_ly16_nn.shape"
      ],
      "metadata": {
        "colab": {
          "base_uri": "https://localhost:8080/"
        },
        "id": "Fx8kfG5H_Wiz",
        "outputId": "ef7da306-f513-4fb7-f7c6-2d2590a09426"
      },
      "execution_count": 19,
      "outputs": [
        {
          "output_type": "execute_result",
          "data": {
            "text/plain": [
              "torch.Size([26881, 24, 20])"
            ]
          },
          "metadata": {},
          "execution_count": 19
        }
      ]
    },
    {
      "cell_type": "code",
      "source": [
        "y_train_ly16_nn = torch.Tensor(y_train_ly16)\n",
        "y_test_ly16_nn = torch.Tensor(y_test_ly16)"
      ],
      "metadata": {
        "id": "9BW7fuU1-bru"
      },
      "execution_count": 24,
      "outputs": []
    },
    {
      "cell_type": "code",
      "source": [
        "train_dataset_ly16 = MyDataset(X_train_ly16_nn, y_train_ly16_nn)\n",
        "test_dataset_ly16 = MyDataset(X_test_ly16_nn, y_test_ly16_nn)"
      ],
      "metadata": {
        "id": "OW3ysioe8BhN"
      },
      "execution_count": 27,
      "outputs": []
    },
    {
      "cell_type": "code",
      "source": [
        "batch_size = 32\n",
        "trainloader_ly16 = DataLoader(train_dataset_ly16, batch_size=batch_size, shuffle=True, num_workers=2)\n",
        "testloader_ly16 = DataLoader(test_dataset_ly16, batch_size=batch_size, shuffle=False, num_workers=2)"
      ],
      "metadata": {
        "id": "FjgeIhxq8WXY"
      },
      "execution_count": 39,
      "outputs": []
    },
    {
      "cell_type": "code",
      "source": [
        "lstm_ly16 =  LSTMPredictor(input_size = 20, hidden_size = 20, num_layers=3)"
      ],
      "metadata": {
        "id": "XVNA8vSmJxwm"
      },
      "execution_count": 34,
      "outputs": []
    },
    {
      "cell_type": "code",
      "source": [
        "lstm_ly16.train()\n",
        "\n",
        "num_epochs = 20\n",
        "learning_rate = 0.001\n",
        "\n",
        "criterion = nn.BCELoss()\n",
        "optimizer = torch.optim.Adam(lstm_ly16.parameters(), lr=learning_rate)\n",
        "\n",
        "loss_hist = []\n",
        "for ep in range(num_epochs):\n",
        "    hist_loss = 0\n",
        "    for _, data in enumerate(trainloader_ly16, 0): # get bacth\n",
        "        # parse batch\n",
        "        features, labels = data\n",
        "        # sets the gradients of all optimized tensors to zero.\n",
        "        optimizer.zero_grad() \n",
        "        # get outputs\n",
        "        outputs = lstm_ly16(features) \n",
        "        # calculate loss\n",
        "        #print(outputs.shape, labels.unsqueeze(1).shape)\n",
        "        loss = criterion(outputs, labels.unsqueeze(1))\n",
        "        # calculate gradients\n",
        "        loss.backward() \n",
        "        # performs a single optimization step (parameter update).\n",
        "        optimizer.step()\n",
        "        hist_loss += loss.item()\n",
        "    loss_hist.append(hist_loss /len(trainloader_ly16))\n",
        "    print(f\"Epoch={ep} loss={loss_hist[ep]:.4f}\")"
      ],
      "metadata": {
        "colab": {
          "base_uri": "https://localhost:8080/"
        },
        "id": "90BGcmYx9Lob",
        "outputId": "ee07063b-1fe5-46f5-ed71-7970b090d40b"
      },
      "execution_count": 35,
      "outputs": [
        {
          "output_type": "stream",
          "name": "stdout",
          "text": [
            "Epoch=0 loss=0.5670\n",
            "Epoch=1 loss=0.4498\n",
            "Epoch=2 loss=0.4129\n",
            "Epoch=3 loss=0.3867\n",
            "Epoch=4 loss=0.3609\n",
            "Epoch=5 loss=0.3515\n",
            "Epoch=6 loss=0.3418\n",
            "Epoch=7 loss=0.3380\n",
            "Epoch=8 loss=0.3319\n",
            "Epoch=9 loss=0.3288\n",
            "Epoch=10 loss=0.3248\n",
            "Epoch=11 loss=0.3229\n",
            "Epoch=12 loss=0.3197\n",
            "Epoch=13 loss=0.3164\n",
            "Epoch=14 loss=0.3157\n",
            "Epoch=15 loss=0.3152\n",
            "Epoch=16 loss=0.3114\n",
            "Epoch=17 loss=0.3101\n",
            "Epoch=18 loss=0.3104\n",
            "Epoch=19 loss=0.3120\n"
          ]
        }
      ]
    },
    {
      "cell_type": "code",
      "source": [
        "accuracy = []\n",
        "precision = []\n",
        "recall = []\n",
        "f1 = []\n",
        "lstm_ly16.eval()\n",
        "\n",
        "with torch.no_grad(): # New variables in this block will be created with require_grad = False\n",
        "  for data in testloader_ly16:\n",
        "    features, labels = data \n",
        "    outputs = lstm_ly16(features)\n",
        "    outputs = outputs.squeeze().round()\n",
        "    accuracy.append(accuracy_score(labels, outputs))\n",
        "    precision.append(precision_score(labels, outputs))\n",
        "    recall.append(recall_score(labels, outputs))\n",
        "    f1.append(f1_score(labels, outputs))\n"
      ],
      "metadata": {
        "id": "bl49OatQ_PBr"
      },
      "execution_count": 40,
      "outputs": []
    },
    {
      "cell_type": "code",
      "source": [
        "sum(accuracy) / len(accuracy)"
      ],
      "metadata": {
        "colab": {
          "base_uri": "https://localhost:8080/"
        },
        "id": "tBv_xHnH_PNf",
        "outputId": "7b5f29df-e7c8-4773-8308-a50ffa067edb"
      },
      "execution_count": 41,
      "outputs": [
        {
          "output_type": "execute_result",
          "data": {
            "text/plain": [
              "0.8876329787234043"
            ]
          },
          "metadata": {},
          "execution_count": 41
        }
      ]
    },
    {
      "cell_type": "code",
      "source": [
        "sum(precision) / len(precision)"
      ],
      "metadata": {
        "colab": {
          "base_uri": "https://localhost:8080/"
        },
        "id": "j8RPCdHYDtIA",
        "outputId": "a947b021-4253-4137-f5c9-cf75f32ed426"
      },
      "execution_count": 42,
      "outputs": [
        {
          "output_type": "execute_result",
          "data": {
            "text/plain": [
              "0.8642711769041731"
            ]
          },
          "metadata": {},
          "execution_count": 42
        }
      ]
    },
    {
      "cell_type": "code",
      "source": [
        "sum(recall) / len(recall)"
      ],
      "metadata": {
        "colab": {
          "base_uri": "https://localhost:8080/"
        },
        "id": "wqvzniRiDtQH",
        "outputId": "e33a3deb-c57b-470e-f9a1-97209fe99401"
      },
      "execution_count": 43,
      "outputs": [
        {
          "output_type": "execute_result",
          "data": {
            "text/plain": [
              "0.9168147888206997"
            ]
          },
          "metadata": {},
          "execution_count": 43
        }
      ]
    },
    {
      "cell_type": "code",
      "source": [
        "sum(f1) / len(f1)"
      ],
      "metadata": {
        "colab": {
          "base_uri": "https://localhost:8080/"
        },
        "id": "U7M_KQINDtZ_",
        "outputId": "5ebf7954-3503-4f5a-ba0c-c8697978eaaf"
      },
      "execution_count": 44,
      "outputs": [
        {
          "output_type": "execute_result",
          "data": {
            "text/plain": [
              "0.8858114646936682"
            ]
          },
          "metadata": {},
          "execution_count": 44
        }
      ]
    },
    {
      "cell_type": "code",
      "source": [],
      "metadata": {
        "id": "ErJAAGQMQpUX"
      },
      "execution_count": null,
      "outputs": []
    },
    {
      "cell_type": "markdown",
      "source": [
        "## ACE2"
      ],
      "metadata": {
        "id": "jeB56Et1Qp0P"
      }
    },
    {
      "cell_type": "code",
      "source": [
        "X_train_ace2_nn = torch.Tensor(train_ace2_encoded)\n",
        "X_test_ace2_nn = torch.Tensor(test_ace2_encoded)"
      ],
      "metadata": {
        "id": "Ey_Sdt0T8DCC"
      },
      "execution_count": 16,
      "outputs": []
    },
    {
      "cell_type": "code",
      "source": [
        "y_train_ace2_nn = torch.Tensor(y_train_ace2)\n",
        "y_test_ace2_nn = torch.Tensor(y_test_ace2)"
      ],
      "metadata": {
        "id": "tW9UxjCyOhEU"
      },
      "execution_count": 17,
      "outputs": []
    },
    {
      "cell_type": "code",
      "source": [
        "train_dataset_ace2 = MyDataset(X_train_ace2_nn, y_train_ace2_nn)\n",
        "test_dataset_ace2 = MyDataset(X_test_ace2_nn, y_test_ace2_nn)\n",
        "\n",
        "batch_size = 32\n",
        "trainloader_ace2 = DataLoader(train_dataset_ace2, batch_size=batch_size, shuffle=True, num_workers=2)\n",
        "testloader_ace2 = DataLoader(test_dataset_ace2, batch_size=batch_size, shuffle=False, num_workers=2)"
      ],
      "metadata": {
        "id": "M2a5FeRXP3-i"
      },
      "execution_count": 20,
      "outputs": []
    },
    {
      "cell_type": "code",
      "source": [
        "lstm_ace2 =  LSTMPredictor(input_size = 20, hidden_size = 20, num_layers=3)"
      ],
      "metadata": {
        "id": "xxNRytb5P4E4"
      },
      "execution_count": 21,
      "outputs": []
    },
    {
      "cell_type": "code",
      "source": [
        "lstm_ace2.train()\n",
        "\n",
        "num_epochs = 20\n",
        "learning_rate = 0.001\n",
        "\n",
        "criterion = nn.BCELoss()\n",
        "optimizer = torch.optim.Adam(lstm_ace2.parameters(), lr=learning_rate)\n",
        "\n",
        "loss_hist = []\n",
        "for ep in range(num_epochs):\n",
        "    hist_loss = 0\n",
        "    for _, data in enumerate(trainloader_ace2, 0): # get bacth\n",
        "        # parse batch\n",
        "        features, labels = data\n",
        "        # sets the gradients of all optimized tensors to zero.\n",
        "        optimizer.zero_grad() \n",
        "        # get outputs\n",
        "        outputs = lstm_ace2(features) \n",
        "        # calculate loss\n",
        "        #print(outputs.shape, labels.unsqueeze(1).shape)\n",
        "        loss = criterion(outputs, labels.unsqueeze(1))\n",
        "        # calculate gradients\n",
        "        loss.backward() \n",
        "        # performs a single optimization step (parameter update).\n",
        "        optimizer.step()\n",
        "        hist_loss += loss.item()\n",
        "    loss_hist.append(hist_loss /len(trainloader_ace2))\n",
        "    print(f\"Epoch={ep} loss={loss_hist[ep]:.4f}\")"
      ],
      "metadata": {
        "colab": {
          "base_uri": "https://localhost:8080/",
          "height": 519
        },
        "id": "7frvTz7IP4IN",
        "outputId": "9de6b9c1-fb8d-482e-f677-a2a05fa8fc70"
      },
      "execution_count": 22,
      "outputs": [
        {
          "output_type": "stream",
          "name": "stdout",
          "text": [
            "Epoch=0 loss=0.2771\n",
            "Epoch=1 loss=0.2188\n",
            "Epoch=2 loss=0.2119\n",
            "Epoch=3 loss=0.2078\n",
            "Epoch=4 loss=0.2049\n",
            "Epoch=5 loss=0.2028\n",
            "Epoch=6 loss=0.2012\n",
            "Epoch=7 loss=0.1999\n"
          ]
        },
        {
          "output_type": "error",
          "ename": "KeyboardInterrupt",
          "evalue": "ignored",
          "traceback": [
            "\u001b[0;31m---------------------------------------------------------------------------\u001b[0m",
            "\u001b[0;31mKeyboardInterrupt\u001b[0m                         Traceback (most recent call last)",
            "\u001b[0;32m<ipython-input-22-34457a4f3457>\u001b[0m in \u001b[0;36m<module>\u001b[0;34m\u001b[0m\n\u001b[1;32m     16\u001b[0m         \u001b[0moptimizer\u001b[0m\u001b[0;34m.\u001b[0m\u001b[0mzero_grad\u001b[0m\u001b[0;34m(\u001b[0m\u001b[0;34m)\u001b[0m\u001b[0;34m\u001b[0m\u001b[0;34m\u001b[0m\u001b[0m\n\u001b[1;32m     17\u001b[0m         \u001b[0;31m# get outputs\u001b[0m\u001b[0;34m\u001b[0m\u001b[0;34m\u001b[0m\u001b[0;34m\u001b[0m\u001b[0m\n\u001b[0;32m---> 18\u001b[0;31m         \u001b[0moutputs\u001b[0m \u001b[0;34m=\u001b[0m \u001b[0mlstm_ace2\u001b[0m\u001b[0;34m(\u001b[0m\u001b[0mfeatures\u001b[0m\u001b[0;34m)\u001b[0m\u001b[0;34m\u001b[0m\u001b[0;34m\u001b[0m\u001b[0m\n\u001b[0m\u001b[1;32m     19\u001b[0m         \u001b[0;31m# calculate loss\u001b[0m\u001b[0;34m\u001b[0m\u001b[0;34m\u001b[0m\u001b[0;34m\u001b[0m\u001b[0m\n\u001b[1;32m     20\u001b[0m         \u001b[0;31m#print(outputs.shape, labels.unsqueeze(1).shape)\u001b[0m\u001b[0;34m\u001b[0m\u001b[0;34m\u001b[0m\u001b[0;34m\u001b[0m\u001b[0m\n",
            "\u001b[0;32m/usr/local/lib/python3.8/dist-packages/torch/nn/modules/module.py\u001b[0m in \u001b[0;36m_call_impl\u001b[0;34m(self, *input, **kwargs)\u001b[0m\n\u001b[1;32m   1192\u001b[0m         if not (self._backward_hooks or self._forward_hooks or self._forward_pre_hooks or _global_backward_hooks\n\u001b[1;32m   1193\u001b[0m                 or _global_forward_hooks or _global_forward_pre_hooks):\n\u001b[0;32m-> 1194\u001b[0;31m             \u001b[0;32mreturn\u001b[0m \u001b[0mforward_call\u001b[0m\u001b[0;34m(\u001b[0m\u001b[0;34m*\u001b[0m\u001b[0minput\u001b[0m\u001b[0;34m,\u001b[0m \u001b[0;34m**\u001b[0m\u001b[0mkwargs\u001b[0m\u001b[0;34m)\u001b[0m\u001b[0;34m\u001b[0m\u001b[0;34m\u001b[0m\u001b[0m\n\u001b[0m\u001b[1;32m   1195\u001b[0m         \u001b[0;31m# Do not call functions when jit is used\u001b[0m\u001b[0;34m\u001b[0m\u001b[0;34m\u001b[0m\u001b[0;34m\u001b[0m\u001b[0m\n\u001b[1;32m   1196\u001b[0m         \u001b[0mfull_backward_hooks\u001b[0m\u001b[0;34m,\u001b[0m \u001b[0mnon_full_backward_hooks\u001b[0m \u001b[0;34m=\u001b[0m \u001b[0;34m[\u001b[0m\u001b[0;34m]\u001b[0m\u001b[0;34m,\u001b[0m \u001b[0;34m[\u001b[0m\u001b[0;34m]\u001b[0m\u001b[0;34m\u001b[0m\u001b[0;34m\u001b[0m\u001b[0m\n",
            "\u001b[0;32m<ipython-input-19-eaae8a3a5e17>\u001b[0m in \u001b[0;36mforward\u001b[0;34m(self, x)\u001b[0m\n\u001b[1;32m     15\u001b[0m         \u001b[0;31m#h_0 = torch.zeros(self.num_layers, x.size(0), self.hidden_size) #hidden state\u001b[0m\u001b[0;34m\u001b[0m\u001b[0;34m\u001b[0m\u001b[0;34m\u001b[0m\u001b[0m\n\u001b[1;32m     16\u001b[0m         \u001b[0;31m#c_0 = torch.zeros(self.num_layers, x.size(0), self.hidden_size) #internal state\u001b[0m\u001b[0;34m\u001b[0m\u001b[0;34m\u001b[0m\u001b[0;34m\u001b[0m\u001b[0m\n\u001b[0;32m---> 17\u001b[0;31m         \u001b[0mout\u001b[0m\u001b[0;34m,\u001b[0m \u001b[0;34m(\u001b[0m\u001b[0mh\u001b[0m\u001b[0;34m,\u001b[0m\u001b[0mc\u001b[0m\u001b[0;34m)\u001b[0m \u001b[0;34m=\u001b[0m \u001b[0mself\u001b[0m\u001b[0;34m.\u001b[0m\u001b[0mlstm\u001b[0m\u001b[0;34m(\u001b[0m\u001b[0mx\u001b[0m\u001b[0;34m)\u001b[0m\u001b[0;34m\u001b[0m\u001b[0;34m\u001b[0m\u001b[0m\n\u001b[0m\u001b[1;32m     18\u001b[0m         \u001b[0;31m#print(h.shape)\u001b[0m\u001b[0;34m\u001b[0m\u001b[0;34m\u001b[0m\u001b[0;34m\u001b[0m\u001b[0m\n\u001b[1;32m     19\u001b[0m         \u001b[0my\u001b[0m \u001b[0;34m=\u001b[0m \u001b[0mself\u001b[0m\u001b[0;34m.\u001b[0m\u001b[0mfc\u001b[0m\u001b[0;34m(\u001b[0m\u001b[0mh\u001b[0m\u001b[0;34m[\u001b[0m\u001b[0mself\u001b[0m\u001b[0;34m.\u001b[0m\u001b[0mnum_layers\u001b[0m \u001b[0;34m-\u001b[0m \u001b[0;36m1\u001b[0m\u001b[0;34m]\u001b[0m\u001b[0;34m)\u001b[0m\u001b[0;34m\u001b[0m\u001b[0;34m\u001b[0m\u001b[0m\n",
            "\u001b[0;32m/usr/local/lib/python3.8/dist-packages/torch/nn/modules/module.py\u001b[0m in \u001b[0;36m_call_impl\u001b[0;34m(self, *input, **kwargs)\u001b[0m\n\u001b[1;32m   1192\u001b[0m         if not (self._backward_hooks or self._forward_hooks or self._forward_pre_hooks or _global_backward_hooks\n\u001b[1;32m   1193\u001b[0m                 or _global_forward_hooks or _global_forward_pre_hooks):\n\u001b[0;32m-> 1194\u001b[0;31m             \u001b[0;32mreturn\u001b[0m \u001b[0mforward_call\u001b[0m\u001b[0;34m(\u001b[0m\u001b[0;34m*\u001b[0m\u001b[0minput\u001b[0m\u001b[0;34m,\u001b[0m \u001b[0;34m**\u001b[0m\u001b[0mkwargs\u001b[0m\u001b[0;34m)\u001b[0m\u001b[0;34m\u001b[0m\u001b[0;34m\u001b[0m\u001b[0m\n\u001b[0m\u001b[1;32m   1195\u001b[0m         \u001b[0;31m# Do not call functions when jit is used\u001b[0m\u001b[0;34m\u001b[0m\u001b[0;34m\u001b[0m\u001b[0;34m\u001b[0m\u001b[0m\n\u001b[1;32m   1196\u001b[0m         \u001b[0mfull_backward_hooks\u001b[0m\u001b[0;34m,\u001b[0m \u001b[0mnon_full_backward_hooks\u001b[0m \u001b[0;34m=\u001b[0m \u001b[0;34m[\u001b[0m\u001b[0;34m]\u001b[0m\u001b[0;34m,\u001b[0m \u001b[0;34m[\u001b[0m\u001b[0;34m]\u001b[0m\u001b[0;34m\u001b[0m\u001b[0;34m\u001b[0m\u001b[0m\n",
            "\u001b[0;32m/usr/local/lib/python3.8/dist-packages/torch/nn/modules/rnn.py\u001b[0m in \u001b[0;36mforward\u001b[0;34m(self, input, hx)\u001b[0m\n\u001b[1;32m    772\u001b[0m         \u001b[0mself\u001b[0m\u001b[0;34m.\u001b[0m\u001b[0mcheck_forward_args\u001b[0m\u001b[0;34m(\u001b[0m\u001b[0minput\u001b[0m\u001b[0;34m,\u001b[0m \u001b[0mhx\u001b[0m\u001b[0;34m,\u001b[0m \u001b[0mbatch_sizes\u001b[0m\u001b[0;34m)\u001b[0m\u001b[0;34m\u001b[0m\u001b[0;34m\u001b[0m\u001b[0m\n\u001b[1;32m    773\u001b[0m         \u001b[0;32mif\u001b[0m \u001b[0mbatch_sizes\u001b[0m \u001b[0;32mis\u001b[0m \u001b[0;32mNone\u001b[0m\u001b[0;34m:\u001b[0m\u001b[0;34m\u001b[0m\u001b[0;34m\u001b[0m\u001b[0m\n\u001b[0;32m--> 774\u001b[0;31m             result = _VF.lstm(input, hx, self._flat_weights, self.bias, self.num_layers,\n\u001b[0m\u001b[1;32m    775\u001b[0m                               self.dropout, self.training, self.bidirectional, self.batch_first)\n\u001b[1;32m    776\u001b[0m         \u001b[0;32melse\u001b[0m\u001b[0;34m:\u001b[0m\u001b[0;34m\u001b[0m\u001b[0;34m\u001b[0m\u001b[0m\n",
            "\u001b[0;31mKeyboardInterrupt\u001b[0m: "
          ]
        }
      ]
    },
    {
      "cell_type": "code",
      "source": [
        "accuracy = []\n",
        "precision = []\n",
        "recall = []\n",
        "f1 = []\n",
        "lstm_ace2.eval()\n",
        "\n",
        "with torch.no_grad(): # New variables in this block will be created with require_grad = False\n",
        "  for data in testloader_ace2:\n",
        "    features, labels = data \n",
        "    outputs = lstm_ace2(features)\n",
        "    outputs = outputs.squeeze().round()\n",
        "    accuracy.append(accuracy_score(labels, outputs))\n",
        "    precision.append(precision_score(labels, outputs))\n",
        "    recall.append(recall_score(labels, outputs))\n",
        "    f1.append(f1_score(labels, outputs))"
      ],
      "metadata": {
        "id": "px_Jn1NFP4Ql"
      },
      "execution_count": 23,
      "outputs": []
    },
    {
      "cell_type": "code",
      "source": [
        "sum(accuracy) / len(accuracy)"
      ],
      "metadata": {
        "colab": {
          "base_uri": "https://localhost:8080/"
        },
        "id": "OCB_Kke-RvjI",
        "outputId": "ed96baf8-389b-4d26-ddd9-b14346219127"
      },
      "execution_count": 24,
      "outputs": [
        {
          "output_type": "execute_result",
          "data": {
            "text/plain": [
              "0.9321649246012305"
            ]
          },
          "metadata": {},
          "execution_count": 24
        }
      ]
    },
    {
      "cell_type": "code",
      "source": [
        "sum(precision) / len(precision)"
      ],
      "metadata": {
        "colab": {
          "base_uri": "https://localhost:8080/"
        },
        "id": "lPzI_bEvRwlF",
        "outputId": "f1ec53bc-6be9-4523-cd41-343bbc728d8f"
      },
      "execution_count": 25,
      "outputs": [
        {
          "output_type": "execute_result",
          "data": {
            "text/plain": [
              "0.9472192882229037"
            ]
          },
          "metadata": {},
          "execution_count": 25
        }
      ]
    },
    {
      "cell_type": "code",
      "source": [
        "sum(recall) / len(recall)"
      ],
      "metadata": {
        "colab": {
          "base_uri": "https://localhost:8080/"
        },
        "id": "UaHJqZo-bI6q",
        "outputId": "59854d28-d024-4eee-f392-1cef4255928f"
      },
      "execution_count": 27,
      "outputs": [
        {
          "output_type": "execute_result",
          "data": {
            "text/plain": [
              "0.9147749369319526"
            ]
          },
          "metadata": {},
          "execution_count": 27
        }
      ]
    },
    {
      "cell_type": "code",
      "source": [
        "sum(f1) / len(f1)"
      ],
      "metadata": {
        "colab": {
          "base_uri": "https://localhost:8080/"
        },
        "id": "kwY9tCL1RwpK",
        "outputId": "09790f07-0827-451f-8480-94f89e082299"
      },
      "execution_count": 26,
      "outputs": [
        {
          "output_type": "execute_result",
          "data": {
            "text/plain": [
              "0.9286347626157505"
            ]
          },
          "metadata": {},
          "execution_count": 26
        }
      ]
    },
    {
      "cell_type": "code",
      "source": [],
      "metadata": {
        "id": "CRu6jPBCRws1"
      },
      "execution_count": null,
      "outputs": []
    }
  ]
}